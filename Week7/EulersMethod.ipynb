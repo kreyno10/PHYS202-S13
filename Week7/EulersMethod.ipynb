{
 "metadata": {
  "name": "EulersMethod"
 },
 "nbformat": 3,
 "nbformat_minor": 0,
 "worksheets": [
  {
   "cells": [
    {
     "cell_type": "markdown",
     "metadata": {},
     "source": [
      "exercise 1\n",
      "==\n",
      "*disclaimer: i made the x final values 1 + step (either 0.25 or 0.02) so when I graphed, the value at x = 1 could be included!\n",
      "-"
     ]
    },
    {
     "cell_type": "code",
     "collapsed": false,
     "input": [
      "f = lambda x, y: x + 2*y  \n",
      "n = .25\n",
      "x0 = 0.\n",
      "xf = 1.25\n",
      "y0 = 0.\n",
      "x = x0\n",
      "i = zeros(10)\n",
      "k = y0\n",
      "i=[]\n",
      "while x < xf:\n",
      "    k += n * f(x,k)\n",
      "    x += n\n",
      "    i.append(k)\n",
      "    #i+=1\n",
      "    #print i,\n",
      "print  k, i\n",
      "\n",
      "\n",
      "    \n",
      "\n",
      "\n",
      "    \n"
     ],
     "language": "python",
     "metadata": {},
     "outputs": [
      {
       "output_type": "stream",
       "stream": "stdout",
       "text": [
        "1.0234375 [0.0, 0.0625, 0.21875, 0.515625, 1.0234375]\n"
       ]
      }
     ],
     "prompt_number": 139
    },
    {
     "cell_type": "code",
     "collapsed": false,
     "input": [
      "f = lambda x, y: x + 2*y  \n",
      "n = .02\n",
      "x0 = 0.\n",
      "xf = 1.\n",
      "y0 = 0.\n",
      "x = x0\n",
      "g = y0\n",
      "j = []\n",
      "while x < xf:\n",
      "    g += n * f(x,g)\n",
      "    x += n\n",
      "    j.append(g)\n",
      "print g, j"
     ],
     "language": "python",
     "metadata": {},
     "outputs": [
      {
       "output_type": "stream",
       "stream": "stdout",
       "text": [
        "1.02667083657 [0.0, 0.0004, 0.001216, 0.00246464, 0.004163225600000001, 0.006329754624000001, 0.008982944808960001, 0.012142262601318402, 0.015827953105371138, 0.020061071229585982, 0.02486351407876942, 0.030258054641920197, 0.036268376827597, 0.042919111900700885, 0.05023587637672892, 0.05824531143179808, 0.06697512388907, 0.07645412884463279, 0.08671229399841811, 0.09778078575835483, 0.10969201718868903, 0.12247969787623658, 0.13617888579128604, 0.15082604122293747, 0.16645908287185496, 0.18311744618672915, 0.2008421440341983, 0.21967582979556624, 0.2396628629873889, 0.26084937750688447, 0.28328335260715987, 0.30701468671144627, 0.33209527417990414, 0.3585790851471003, 0.38652224855298434, 0.4159831384951037, 0.44702246403490786, 0.4797033625963042, 0.5140914971001563, 0.5502551569841626, 0.5882653632635291, 0.6281959777940702, 0.670123816905833, 0.7141287695820663, 0.7602939203653489, 0.8087056771799629, 0.8594539042671614, 0.9126320604378478, 0.9683373428553618, 1.0266708365695763]\n"
       ]
      }
     ],
     "prompt_number": 144
    },
    {
     "cell_type": "code",
     "collapsed": false,
     "input": [
      "x = arange(0,1.25,.25)\n",
      "y = lambda x: 0.25*exp(2*x) - 0.5*x - 0.25\n",
      "plot(x,y(x), label=\"exact\")\n",
      "plot(x,i,label=\"step 0.25\")\n",
      "c = arange(0,1,.02)\n",
      "plot(c,j,label=\"step 0.02\")\n",
      "legend(loc=0)\n",
      "show()\n",
      "#a step of 0.02 is much more accurate!"
     ],
     "language": "python",
     "metadata": {},
     "outputs": [
      {
       "output_type": "display_data",
       "png": "[encoded data removed]"
      }
     ],
     "prompt_number": 145
    },
    {
     "cell_type": "markdown",
     "metadata": {},
     "source": [
      "Midpoint\n",
      "-"
     ]
    },
    {
     "cell_type": "code",
     "collapsed": false,
     "input": [
      "f = lambda x, y: x + 2*y  \n",
      "n = .25\n",
      "x0 = 0.\n",
      "xf = 1.25\n",
      "y0 = 0.\n",
      "x = x0\n",
      "i = zeros(10)\n",
      "k = y0\n",
      "im25=[]\n",
      "while x < xf:\n",
      "    k += n * (f(x,k)+f(x+n,k))/2\n",
      "    x += n\n",
      "    im25.append(k)\n",
      "    #i+=1\n",
      "    #print i,\n",
      "print  k"
     ],
     "language": "python",
     "metadata": {},
     "outputs": [
      {
       "output_type": "stream",
       "stream": "stdout",
       "text": [
        "1.435546875\n"
       ]
      }
     ],
     "prompt_number": 156
    },
    {
     "cell_type": "code",
     "collapsed": false,
     "input": [
      "f = lambda x, y: x + 2*y  \n",
      "n = .02\n",
      "x0 = 0.\n",
      "xf = 1.02\n",
      "y0 = 0.\n",
      "x = x0\n",
      "g = y0\n",
      "jm02 = []\n",
      "while x < xf:\n",
      "    g += n * (f(x,g)+f(x+n,g))/2\n",
      "    x += n\n",
      "    #i+= 1\n",
      "    jm02.append(g)\n",
      "print g"
     ],
     "language": "python",
     "metadata": {},
     "outputs": [
      {
       "output_type": "stream",
       "stream": "stdout",
       "text": [
        "1.11969242343\n"
       ]
      }
     ],
     "prompt_number": 157
    },
    {
     "cell_type": "markdown",
     "metadata": {},
     "source": [
      "Euler-Cromer\n",
      "-"
     ]
    },
    {
     "cell_type": "code",
     "collapsed": false,
     "input": [
      "f = lambda x, y: x + 2*y  \n",
      "n = .25\n",
      "x0 = 0.\n",
      "xf = 1.25\n",
      "y0 = 0.\n",
      "x = x0\n",
      "i = zeros(10)\n",
      "k = y0\n",
      "ic25=[]\n",
      "while x < xf:\n",
      "    k += n * f(x+n,k)\n",
      "    x += n\n",
      "    ic25.append(k)\n",
      "    #i+=1\n",
      "    #print i,\n",
      "print  k"
     ],
     "language": "python",
     "metadata": {},
     "outputs": [
      {
       "output_type": "stream",
       "stream": "stdout",
       "text": [
        "1.84765625\n"
       ]
      }
     ],
     "prompt_number": 158
    },
    {
     "cell_type": "code",
     "collapsed": false,
     "input": [
      "f = lambda x, y: x + 2*y  \n",
      "n = .02\n",
      "x0 = 0.\n",
      "xf = 1.02\n",
      "y0 = 0.\n",
      "x = x0\n",
      "g = y0\n",
      "jc02 =[]\n",
      "while x < xf:\n",
      "    g += n * f(x+n,g)\n",
      "    x += n\n",
      "    #i+= 1\n",
      "    jc02.append(g)\n",
      "print g"
     ],
     "language": "python",
     "metadata": {},
     "outputs": [
      {
       "output_type": "stream",
       "stream": "stdout",
       "text": [
        "1.15164717683\n"
       ]
      }
     ],
     "prompt_number": 159
    },
    {
     "cell_type": "code",
     "collapsed": false,
     "input": [
      "x = arange(0,1.25,.25)\n",
      "y = lambda x: 0.25*exp(2*x) - 0.5*x - 0.25\n",
      "exact25 = []\n",
      "for i in x:\n",
      "    exact25.append(y(i))\n",
      "print exact25\n",
      "    "
     ],
     "language": "python",
     "metadata": {},
     "outputs": [
      {
       "output_type": "stream",
       "stream": "stdout",
       "text": [
        "[0.0, 0.037180317675032049, 0.17957045711476127, 0.49542226758451613, 1.0972640247326626]\n"
       ]
      }
     ],
     "prompt_number": 161
    },
    {
     "cell_type": "code",
     "collapsed": false,
     "input": [
      "x = arange(0,1.02,.02)\n",
      "y = lambda x: 0.25*exp(2*x) - 0.5*x - 0.25\n",
      "exact02 = []\n",
      "for i in x:\n",
      "    exact02.append(y(i))\n",
      "print exact02"
     ],
     "language": "python",
     "metadata": {},
     "outputs": [
      {
       "output_type": "stream",
       "stream": "stdout",
       "text": [
        "[0.0, 0.00020269354809704376, 0.00082176691873964147, 0.0018742128948439074, 0.0033777177479525911, 0.0053506895400424748, 0.0078122875803511849, 0.010782453084359211, 0.01428194108398928, 0.018332353640085008, 0.022956174410317609, 0.028176804627834007, 0.034018600548223366, 0.040506912424721597, 0.047668125074025292, 0.055529700097627255, 0.064120219826237834, 0.073469433057611888, 0.083608302660971912, 0.094569055124204604, 0.10638523212311696, 0.11909174419527291, 0.13272492660430246, 0.1473225974840745, 0.16292411835577947, 0.17957045711476127, 0.19730425358788994, 0.21616988776638102, 0.23621355082325057, 0.2574833190290462, 0.28002923068413677, 0.30390336619066893, 0.32915993139232036, 0.3558553443152157, 0.38404832544880363, 0.41379999171116877, 0.44517395424913808, 0.47823642022968926, 0.51305629878553971, 0.54970531128446354, 0.58825810609877871, 0.6287923780586705, 0.67138899278049369, 0.7161321160690135, 0.76310934860064727, 0.81241186610323668, 0.86413456525666432, 0.91837621554778726, 0.97523961732268738, 1.0348317662891582, 1.0972640247326626]\n"
       ]
      }
     ],
     "prompt_number": 162
    },
    {
     "cell_type": "code",
     "collapsed": false,
     "input": [
      "x = arange(0,5, 1)\n",
      "Errorm25 = []\n",
      "Errorc25 =[]\n",
      "for i in x:\n",
      "    Errorm25.append((im25[i] - exact25[i]) / exact25[i])\n",
      "    Errorc25.append((ic25[i] - exact25[i])/exact25[i])\n",
      "    \n",
      "c = arange(0,51,1)\n",
      "Errorm02 = []\n",
      "Errorc02 = []\n",
      "for i in c:\n",
      "    Errorm02.append((jm02[i] - exact02[i]) / exact02[i])\n",
      "    Errorc02.append((jc02[i] - exact02[i])/exact02[i])"
     ],
     "language": "python",
     "metadata": {},
     "outputs": [],
     "prompt_number": 170
    },
    {
     "cell_type": "code",
     "collapsed": false,
     "input": [
      "x = arange(0,5, 1)\n",
      "plot(x,Errorm25,label = \"m25\")\n",
      "plot(x,Errorc25,label=\"m25\")\n",
      "c = arange(0,51,1)\n",
      "plot(c,Errorm02, label =\"ec02\")\n",
      "plot(c, Errorc02, label=\"ec02\")\n",
      "legend(loc=0)\n",
      "show()"
     ],
     "language": "python",
     "metadata": {},
     "outputs": [
      {
       "output_type": "display_data",
       "png": "[encoded data removed]"
      }
     ],
     "prompt_number": 175
    },
    {
     "cell_type": "code",
     "collapsed": false,
     "input": [],
     "language": "python",
     "metadata": {},
     "outputs": []
    }
   ],
   "metadata": {}
  }
 ]
}