{
 "metadata": {
  "name": "PE20"
 },
 "nbformat": 3,
 "nbformat_minor": 0,
 "worksheets": [
  {
   "cells": [
    {
     "cell_type": "markdown",
     "metadata": {},
     "source": [
      "n! means n  (n  1)  ...  3  2  1\n",
      "\n",
      "For example, 10! = 10  9  ...  3  2  1 = 3628800,\n",
      "and the sum of the digits in the number 10! is 3 + 6 + 2 + 8 + 8 + 0 + 0 = 27.\n",
      "\n",
      "Find the sum of the digits in the number 100!\n",
      "=="
     ]
    },
    {
     "cell_type": "code",
     "collapsed": false,
     "input": [
      "fac = math.factorial(100)\n",
      "print \"100! =\",fac\n",
      "str_fac = str(fac)\n",
      "count = 0\n",
      "for n in range(len(str_fac)):\n",
      "    value = int(str_fac[n-1])\n",
      "    count += value\n",
      "print \"sum of digits =\",count"
     ],
     "language": "python",
     "metadata": {},
     "outputs": [
      {
       "output_type": "stream",
       "stream": "stdout",
       "text": [
        "100! = 93326215443944152681699238856266700490715968264381621468592963895217599993229915608941463976156518286253697920827223758251185210916864000000000000000000000000\n",
        "sum of digits = 648\n"
       ]
      }
     ],
     "prompt_number": 9
    },
    {
     "cell_type": "code",
     "collapsed": false,
     "input": [
      "fac = math.factorial(10)\n",
      "print \"10! =\",fac\n",
      "str_fac = str(fac)\n",
      "count = 0\n",
      "for n in range(len(str_fac)):\n",
      "    value = int(str_fac[n-1])\n",
      "    count += value\n",
      "print \"sum of digits =\",count"
     ],
     "language": "python",
     "metadata": {},
     "outputs": [
      {
       "output_type": "stream",
       "stream": "stdout",
       "text": [
        "10! = 3628800\n",
        "sum of digits = 27\n"
       ]
      }
     ],
     "prompt_number": 8
    },
    {
     "cell_type": "code",
     "collapsed": false,
     "input": [],
     "language": "python",
     "metadata": {},
     "outputs": []
    }
   ],
   "metadata": {}
  }
 ]
}