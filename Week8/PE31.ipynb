{
 "metadata": {
  "name": "PE31"
 },
 "nbformat": 3,
 "nbformat_minor": 0,
 "worksheets": [
  {
   "cells": [
    {
     "cell_type": "markdown",
     "metadata": {},
     "source": [
      "In England the currency is made up of pound, \u00a3, and pence, p, and there are eight coins in general circulation:\n",
      "\n",
      "1p, 2p, 5p, 10p, 20p, 50p, \u00a31 (100p) and \u00a32 (200p).\n",
      "It is possible to make \u00a32 in the following way:\n",
      "\n",
      "1\u00a31 + 150p + 220p + 15p + 12p + 31p\n",
      "How many different ways can \u00a32 be made using any number of coins?"
     ]
    },
    {
     "cell_type": "code",
     "collapsed": false,
     "input": [
      "coins = [1, 2, 5, 10, 20, 50, 100, 200]\n",
      "ways = [0]*201\n",
      "ways[0] = 1\n",
      "for coin in coins:\n",
      "    for i in arange(coin, 201):\n",
      "        ways[i] += ways[i - coin]\n",
      "print ways[200]"
     ],
     "language": "python",
     "metadata": {},
     "outputs": [
      {
       "output_type": "stream",
       "stream": "stdout",
       "text": [
        "73682\n"
       ]
      }
     ],
     "prompt_number": 1
    },
    {
     "cell_type": "code",
     "collapsed": false,
     "input": [
      "coins = [1, 2, 5, 10, 20, 50, 100, 200]\n",
      "ways = [0]*101\n",
      "ways[0] = 1\n",
      "for coin in coins:\n",
      "    for i in arange(coin, 101):\n",
      "        ways[i] += ways[i - coin]\n",
      "print ways[100]"
     ],
     "language": "python",
     "metadata": {},
     "outputs": [
      {
       "output_type": "stream",
       "stream": "stdout",
       "text": [
        "4563\n"
       ]
      }
     ],
     "prompt_number": 2
    },
    {
     "cell_type": "code",
     "collapsed": false,
     "input": [],
     "language": "python",
     "metadata": {},
     "outputs": []
    }
   ],
   "metadata": {}
  }
 ]
}