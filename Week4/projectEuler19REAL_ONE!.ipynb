{
 "metadata": {
  "name": "projectEuler19REAL_ONE!"
 },
 "nbformat": 3,
 "nbformat_minor": 0,
 "worksheets": [
  {
   "cells": [
    {
     "cell_type": "markdown",
     "metadata": {},
     "source": [
      "You are given the following information, but you may prefer to do some research for yourself.\n",
      "\n",
      "1 Jan 1900 was a Monday.\n",
      "Thirty days has September,\n",
      "April, June and November.\n",
      "All the rest have thirty-one,\n",
      "Saving February alone,\n",
      "Which has twenty-eight, rain or shine.\n",
      "And on leap years, twenty-nine.\n",
      "A leap year occurs on any year evenly divisible by 4, but not on a century unless it is divisible by 400.\n",
      "How many Sundays fell on the first of the month during the twentieth century (1 Jan 1901 to 31 Dec 2000)?"
     ]
    },
    {
     "cell_type": "code",
     "collapsed": false,
     "input": [
      "mo_day = {1: 31, 2: 28, 3: 31, 4: 30, 5:31, 6:30, 7:31, 8: 31, 9:30, 10:31, 11:30, 12:31}\n",
      "#day == 0 means sunday. day == 7 means saturday\n",
      "startday = 2 # jan 1 1901 was a tuesday\n",
      "count = 0\n",
      "thisday = 0\n",
      "for i in range(1, 13):\n",
      "    for t in range(1901, 2000):\n",
      "        thisday += mo_day[i] + startday \n",
      "        if thisday % 7 == 0:\n",
      "            count += 1\n",
      "print count"
     ],
     "language": "python",
     "metadata": {},
     "outputs": [
      {
       "output_type": "stream",
       "stream": "stdout",
       "text": [
        "171\n"
       ]
      }
     ],
     "prompt_number": 33
    },
    {
     "cell_type": "code",
     "collapsed": false,
     "input": [
      "    "
     ],
     "language": "python",
     "metadata": {},
     "outputs": []
    }
   ],
   "metadata": {}
  }
 ]
}