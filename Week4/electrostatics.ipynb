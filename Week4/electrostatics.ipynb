{
 "metadata": {
  "name": "electrostatics"
 },
 "nbformat": 3,
 "nbformat_minor": 0,
 "worksheets": [
  {
   "cells": [
    {
     "cell_type": "code",
     "collapsed": false,
     "input": [
      "from Electrostatics import *"
     ],
     "language": "python",
     "metadata": {},
     "outputs": [],
     "prompt_number": 1
    },
    {
     "cell_type": "code",
     "collapsed": false,
     "input": [
      "pointPotential(1,1,1e-9,1,10)"
     ],
     "language": "python",
     "metadata": {},
     "outputs": [
      {
       "output_type": "pyout",
       "prompt_number": 2,
       "text": [
        "0.10735794081880959"
       ]
      }
     ],
     "prompt_number": 2
    },
    {
     "cell_type": "code",
     "collapsed": false,
     "input": [
      "x,y = meshgrid(arange(-10e-3,10e-3,0.0006),arange(-10e-3,10e-3, 0.0006)) \n",
      "V11 = pointPotential(x,y,-2e-9,0,-5e-4)\n",
      "V22 = dipolePotential(x,y,3e-9,1e-3)\n",
      "V3 = V11 + V22\n",
      "from mpl_toolkits.mplot3d import Axes3D\n",
      "fig = figure()\n",
      "ax = fig.gca(projection = '3d')\n",
      "p = ax.plot_surface(x, y, V3, rstride=1, cstride=1, linewidth=0, cmap=cm.rainbow)\n",
      "cb = fig.colorbar(p, shrink=0.5)"
     ],
     "language": "python",
     "metadata": {},
     "outputs": [],
     "prompt_number": "*"
    },
    {
     "cell_type": "code",
     "collapsed": false,
     "input": [
      "levels = array([8, 4, 2, 1, 0.5, 0.25, 0, -.25, -.5, -1, -2, -4, -8])\n",
      "contour(X,Y,V3, levels, linewidths = 5, cmap=cm.rainbow)\n",
      "show()"
     ],
     "language": "python",
     "metadata": {},
     "outputs": [],
     "prompt_number": "*"
    },
    {
     "cell_type": "markdown",
     "metadata": {},
     "source": [
      "Using Boolean Masks for Finding Data\n",
      "="
     ]
    },
    {
     "cell_type": "code",
     "collapsed": false,
     "input": [
      "theta = arange(0.,2*pi+0.01, pi/100)\n",
      "plot(theta, sin(theta))\n",
      "show()"
     ],
     "language": "python",
     "metadata": {},
     "outputs": [],
     "prompt_number": "*"
    },
    {
     "cell_type": "code",
     "collapsed": false,
     "input": [
      "mask = (sin(theta) > 0 & sin(theta) < 0.5)\n",
      "plot(theta,sin(theta),theta[mask], sin(theta[mask]))\n",
      "print mask"
     ],
     "language": "python",
     "metadata": {},
     "outputs": [],
     "prompt_number": "*"
    },
    {
     "cell_type": "code",
     "collapsed": false,
     "input": [
      "y = sin(theta[mask])\n",
      "jj = (y == max(y))\n",
      "y[jj] = NaN\n",
      "plot(theta,sin(theta))\n",
      "plot(theta[mask],y,linewidth=4)\n",
      "show()"
     ],
     "language": "python",
     "metadata": {},
     "outputs": [],
     "prompt_number": "*"
    },
    {
     "cell_type": "markdown",
     "metadata": {},
     "source": [
      "Interpolation\n",
      "=="
     ]
    },
    {
     "cell_type": "code",
     "collapsed": false,
     "input": [],
     "language": "python",
     "metadata": {},
     "outputs": []
    }
   ],
   "metadata": {}
  }
 ]
}