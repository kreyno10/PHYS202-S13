{
 "metadata": {
  "name": "Boolean Notes"
 },
 "nbformat": 3,
 "nbformat_minor": 0,
 "worksheets": [
  {
   "cells": [
    {
     "cell_type": "markdown",
     "metadata": {},
     "source": [
      "Interpolation\n",
      "="
     ]
    },
    {
     "cell_type": "code",
     "collapsed": false,
     "input": [
      "theta = arange(0.,2*pi+0.01, pi/10)\n",
      "mask = (theta == 0.5)"
     ],
     "language": "python",
     "metadata": {},
     "outputs": [],
     "prompt_number": "*"
    },
    {
     "cell_type": "code",
     "collapsed": false,
     "input": [
      "newTheta = 0.5; newSin = 0.\n",
      "from scipy.interpolate import interpid\n",
      "help(interpid)\n"
     ],
     "language": "python",
     "metadata": {},
     "outputs": []
    },
    {
     "cell_type": "markdown",
     "metadata": {},
     "source": [
      "Differentiation\n",
      "="
     ]
    },
    {
     "cell_type": "code",
     "collapsed": false,
     "input": [
      "x = arange(0.,10.01,0.1)\n",
      "y = x **5\n",
      "print x\n",
      "print y"
     ],
     "language": "python",
     "metadata": {},
     "outputs": [
      {
       "output_type": "stream",
       "stream": "stdout",
       "text": [
        "[  0.    0.1   0.2   0.3   0.4   0.5   0.6   0.7   0.8   0.9   1.    1.1\n",
        "   1.2   1.3   1.4   1.5   1.6   1.7   1.8   1.9   2.    2.1   2.2   2.3\n",
        "   2.4   2.5   2.6   2.7   2.8   2.9   3.    3.1   3.2   3.3   3.4   3.5\n",
        "   3.6   3.7   3.8   3.9   4.    4.1   4.2   4.3   4.4   4.5   4.6   4.7\n",
        "   4.8   4.9   5.    5.1   5.2   5.3   5.4   5.5   5.6   5.7   5.8   5.9\n",
        "   6.    6.1   6.2   6.3   6.4   6.5   6.6   6.7   6.8   6.9   7.    7.1\n",
        "   7.2   7.3   7.4   7.5   7.6   7.7   7.8   7.9   8.    8.1   8.2   8.3\n",
        "   8.4   8.5   8.6   8.7   8.8   8.9   9.    9.1   9.2   9.3   9.4   9.5\n",
        "   9.6   9.7   9.8   9.9  10. ]\n",
        "[  0.00000000e+00   1.00000000e-05   3.20000000e-04   2.43000000e-03\n",
        "   1.02400000e-02   3.12500000e-02   7.77600000e-02   1.68070000e-01\n",
        "   3.27680000e-01   5.90490000e-01   1.00000000e+00   1.61051000e+00\n",
        "   2.48832000e+00   3.71293000e+00   5.37824000e+00   7.59375000e+00\n",
        "   1.04857600e+01   1.41985700e+01   1.88956800e+01   2.47609900e+01\n",
        "   3.20000000e+01   4.08410100e+01   5.15363200e+01   6.43634300e+01\n",
        "   7.96262400e+01   9.76562500e+01   1.18813760e+02   1.43489070e+02\n",
        "   1.72103680e+02   2.05111490e+02   2.43000000e+02   2.86291510e+02\n",
        "   3.35544320e+02   3.91353930e+02   4.54354240e+02   5.25218750e+02\n",
        "   6.04661760e+02   6.93439570e+02   7.92351680e+02   9.02241990e+02\n",
        "   1.02400000e+03   1.15856201e+03   1.30691232e+03   1.47008443e+03\n",
        "   1.64916224e+03   1.84528125e+03   2.05962976e+03   2.29345007e+03\n",
        "   2.54803968e+03   2.82475249e+03   3.12500000e+03   3.45025251e+03\n",
        "   3.80204032e+03   4.18195493e+03   4.59165024e+03   5.03284375e+03\n",
        "   5.50731776e+03   6.01692057e+03   6.56356768e+03   7.14924299e+03\n",
        "   7.77600000e+03   8.44596301e+03   9.16132832e+03   9.92436543e+03\n",
        "   1.07374182e+04   1.16029062e+04   1.25233258e+04   1.35012511e+04\n",
        "   1.45393357e+04   1.56403135e+04   1.68070000e+04   1.80422935e+04\n",
        "   1.93491763e+04   2.07307159e+04   2.21900662e+04   2.37304688e+04\n",
        "   2.53552538e+04   2.70678416e+04   2.88717437e+04   3.07705640e+04\n",
        "   3.27680000e+04   3.48678440e+04   3.70739843e+04   3.93904064e+04\n",
        "   4.18211942e+04   4.43705312e+04   4.70427018e+04   4.98420921e+04\n",
        "   5.27731917e+04   5.58405945e+04   5.90490000e+04   6.24032145e+04\n",
        "   6.59081523e+04   6.95688369e+04   7.33904022e+04   7.73780938e+04\n",
        "   8.15372698e+04   8.58734026e+04   9.03920797e+04   9.50990050e+04\n",
        "   1.00000000e+05]\n"
       ]
      }
     ],
     "prompt_number": 7
    },
    {
     "cell_type": "code",
     "collapsed": false,
     "input": [
      "plot(x,y)"
     ],
     "language": "python",
     "metadata": {},
     "outputs": [
      {
       "output_type": "pyout",
       "prompt_number": 8,
       "text": [
        "[<matplotlib.lines.Line2D at 0x108174090>]"
       ]
      },
      {
       "output_type": "display_data",
       "png": "[encoded data removed]"
      }
     ],
     "prompt_number": 8
    },
    {
     "cell_type": "code",
     "collapsed": false,
     "input": [
      "dy = diff(y)\n",
      "print len(y), len(dy)\n",
      "dx = diff(x)\n",
      "dydx = dy/dx\n",
      "print len(dydx)"
     ],
     "language": "python",
     "metadata": {},
     "outputs": [
      {
       "output_type": "stream",
       "stream": "stdout",
       "text": [
        "101 100\n",
        "100\n"
       ]
      }
     ],
     "prompt_number": 9
    },
    {
     "cell_type": "code",
     "collapsed": false,
     "input": [
      "dydx1 = zeros(y.shape,float)\n",
      "dydx[0:-1] = diff(y)/diff(x)\n",
      "dydx[-1] = (y[-1] - y[-2])/(x[-1] - x[-2])"
     ],
     "language": "python",
     "metadata": {},
     "outputs": [
      {
       "ename": "ValueError",
       "evalue": "operands could not be broadcast together with shapes (99) (100) ",
       "output_type": "pyerr",
       "traceback": [
        "\u001b[0;31m---------------------------------------------------------------------------\u001b[0m\n\u001b[0;31mValueError\u001b[0m                                Traceback (most recent call last)",
        "\u001b[0;32m<ipython-input-10-65fb1b2696f5>\u001b[0m in \u001b[0;36m<module>\u001b[0;34m()\u001b[0m\n\u001b[1;32m      1\u001b[0m \u001b[0mdydx1\u001b[0m \u001b[0;34m=\u001b[0m \u001b[0mzeros\u001b[0m\u001b[0;34m(\u001b[0m\u001b[0my\u001b[0m\u001b[0;34m.\u001b[0m\u001b[0mshape\u001b[0m\u001b[0;34m,\u001b[0m\u001b[0mfloat\u001b[0m\u001b[0;34m)\u001b[0m\u001b[0;34m\u001b[0m\u001b[0m\n\u001b[0;32m----> 2\u001b[0;31m \u001b[0mdydx\u001b[0m\u001b[0;34m[\u001b[0m\u001b[0;36m0\u001b[0m\u001b[0;34m:\u001b[0m\u001b[0;34m-\u001b[0m\u001b[0;36m1\u001b[0m\u001b[0;34m]\u001b[0m \u001b[0;34m=\u001b[0m \u001b[0mdiff\u001b[0m\u001b[0;34m(\u001b[0m\u001b[0my\u001b[0m\u001b[0;34m)\u001b[0m\u001b[0;34m/\u001b[0m\u001b[0mdiff\u001b[0m\u001b[0;34m(\u001b[0m\u001b[0mx\u001b[0m\u001b[0;34m)\u001b[0m\u001b[0;34m\u001b[0m\u001b[0m\n\u001b[0m\u001b[1;32m      3\u001b[0m \u001b[0mdydx\u001b[0m\u001b[0;34m[\u001b[0m\u001b[0;34m-\u001b[0m\u001b[0;36m1\u001b[0m\u001b[0;34m]\u001b[0m \u001b[0;34m=\u001b[0m \u001b[0;34m(\u001b[0m\u001b[0my\u001b[0m\u001b[0;34m[\u001b[0m\u001b[0;34m-\u001b[0m\u001b[0;36m1\u001b[0m\u001b[0;34m]\u001b[0m \u001b[0;34m-\u001b[0m \u001b[0my\u001b[0m\u001b[0;34m[\u001b[0m\u001b[0;34m-\u001b[0m\u001b[0;36m2\u001b[0m\u001b[0;34m]\u001b[0m\u001b[0;34m)\u001b[0m\u001b[0;34m/\u001b[0m\u001b[0;34m(\u001b[0m\u001b[0mx\u001b[0m\u001b[0;34m[\u001b[0m\u001b[0;34m-\u001b[0m\u001b[0;36m1\u001b[0m\u001b[0;34m]\u001b[0m \u001b[0;34m-\u001b[0m \u001b[0mx\u001b[0m\u001b[0;34m[\u001b[0m\u001b[0;34m-\u001b[0m\u001b[0;36m2\u001b[0m\u001b[0;34m]\u001b[0m\u001b[0;34m)\u001b[0m\u001b[0;34m\u001b[0m\u001b[0m\n",
        "\u001b[0;31mValueError\u001b[0m: operands could not be broadcast together with shapes (99) (100) "
       ]
      }
     ],
     "prompt_number": 10
    },
    {
     "cell_type": "markdown",
     "metadata": {},
     "source": [
      "$y=x^5$"
     ]
    },
    {
     "cell_type": "code",
     "collapsed": false,
     "input": [
      "dydxExact = 5*x**4"
     ],
     "language": "python",
     "metadata": {},
     "outputs": [],
     "prompt_number": 11
    },
    {
     "cell_type": "code",
     "collapsed": false,
     "input": [
      "plot(x,dydx1,x,dydxExact)"
     ],
     "language": "python",
     "metadata": {},
     "outputs": [
      {
       "output_type": "pyout",
       "prompt_number": 12,
       "text": [
        "[<matplotlib.lines.Line2D at 0x10a341250>,\n",
        " <matplotlib.lines.Line2D at 0x10a341350>]"
       ]
      },
      {
       "output_type": "display_data",
       "png": "[encoded data removed]"
      }
     ],
     "prompt_number": 12
    },
    {
     "cell_type": "code",
     "collapsed": false,
     "input": [],
     "language": "python",
     "metadata": {},
     "outputs": []
    }
   ],
   "metadata": {}
  }
 ]
}