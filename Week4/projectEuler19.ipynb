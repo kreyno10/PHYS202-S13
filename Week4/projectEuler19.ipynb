{
 "metadata": {
  "name": "projectEuler19"
 },
 "nbformat": 3,
 "nbformat_minor": 0,
 "worksheets": [
  {
   "cells": [
    {
     "cell_type": "code",
     "collapsed": false,
     "input": [
      "from datetime import date\n",
      "\n",
      "r = 0\n",
      "\n",
      "for year in range(1901, 2001):\n",
      "    for month in range(1, 13):\n",
      "        d = date(year, month, 1)\n",
      "        if d.weekday() == 6: r += 1\n",
      "\n",
      "print(r)"
     ],
     "language": "python",
     "metadata": {},
     "outputs": [
      {
       "output_type": "stream",
       "stream": "stdout",
       "text": [
        "171\n"
       ]
      }
     ],
     "prompt_number": 1
    },
    {
     "cell_type": "code",
     "collapsed": false,
     "input": [],
     "language": "python",
     "metadata": {},
     "outputs": []
    }
   ],
   "metadata": {}
  }
 ]
}