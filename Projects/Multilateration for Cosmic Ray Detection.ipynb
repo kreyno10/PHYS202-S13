{
 "metadata": {
  "name": "Multilateration for Cosmic Ray Detection"
 },
 "nbformat": 3,
 "nbformat_minor": 0,
 "worksheets": [
  {
   "cells": [
    {
     "cell_type": "markdown",
     "metadata": {},
     "source": [
      "Table of Locations\n",
      "-"
     ]
    },
    {
     "cell_type": "markdown",
     "metadata": {},
     "source": [
      "\\begin{tabular}{|1|1|}\n",
      "\\hline\n",
      "\\multicomumn{2}{|c|}{Locations of Detectors} \\\\\n",
      "\\hline\n",
      "Origin (Area 52) & (0,0,0) \\\\\n",
      "Business Silo & (-0.43,-0.05, -0.014) \\\\\n",
      "B38 & (-0.17, +0.11, 0) \\\\\n",
      "Reinhold Aerospace & (-0.49,+0.14, - 0.017) \\\\\n",
      "Rec Center & (+0.15, - 0.27, +0.001) \\\\\n",
      "Farm Shop & (-0.13, +0.35, -0.001) \\\\\n",
      "UU & (+0.11, -0.17, +0.001) \\\\\n",
      "Cerro Hollister & (+0.17, +0.42, +0.0024) \\\\\n",
      "Sierra Madre Tower 1 & (+0.49, - 0.22, +0.024) \\\\\n",
      "\\hline\n",
      "\\end{tabular}"
     ]
    },
    {
     "cell_type": "code",
     "collapsed": false,
     "input": [
      "#locations of detectors in the order they are in the table so the origin \n",
      "#is index [0], etc. Coordinates are with respect to the origin, the new science building. \n",
      "locx = [0, -0.43, -0.17, -0.49, 0.15, -0.13,0.11,0.17,0.49] #x coordinates of the detectors\n",
      "locy = [0, -0.05, 0.11, 0.14, -0.27, 0.35,-0.17, 0.42, -0.22] #y coords of detectors\n",
      "N = 40 #THIS IS SUPER IMPORTANT. IT IS THE NUMBER OF MUON INTERACTIONS. \n",
      "h = 15. #kilometers. height from earth of first collision\n",
      "theta = .0174 #radians. the cone projected onto earth opens with half angle = 1\n",
      "x = []; y = []; angle = [] #random x, y, angle for interactions in top of atmosphere\n",
      "for n in range(N):\n",
      "    x.append(random.uniform(-0.65, 0.65))\n",
      "    y.append(random.uniform(-0.65, 0.65))\n",
      "    angle.append(random.uniform(0, pi/30))\n",
      "H = []; Rcone = []\n",
      "for n in range(N):\n",
      "    H.append(h / cos(angle[n])) #distance from first interactions to earth \n",
      "    Rcone.append(H[n] * sin(theta)) # radius of the cone on ground"
     ],
     "language": "python",
     "metadata": {},
     "outputs": [],
     "prompt_number": 79
    },
    {
     "cell_type": "code",
     "collapsed": false,
     "input": [
      "D = []\n",
      "for n in range(N):\n",
      "    D.append(h*sin(angle[n]))#distance from center of projected cone to origin (new Science building)\n",
      "\n",
      "count = 0 #number of detectors hit\n",
      " \n",
      "for n in range(N):\n",
      "     for i in range(0,9):\n",
      "        if locx[i] in range(int(x[n]+D[n]-Rcone[n]),int(x[n]+D[n]+Rcone[n])) and locy[i] in range(int(y[n]+D[n]-Rcone[n]),int(y[n]+D[n]+Rcone[n])):\n",
      "            count += 1\n",
      "        \n",
      "\n",
      "print \"number of muons detected =\", count\n",
      "    \n"
     ],
     "language": "python",
     "metadata": {},
     "outputs": [
      {
       "output_type": "stream",
       "stream": "stdout",
       "text": [
        "number of muons detected = 6\n"
       ]
      }
     ],
     "prompt_number": 80
    },
    {
     "cell_type": "code",
     "collapsed": false,
     "input": [
      "if count > 3: #the interaction counts, continue\n",
      "    nrg = []\n",
      "    c = 3.*10**8 #speed of light\n",
      "    m = .1057 #mass of single muon in GeV/c^2\n",
      "    for n in range(N):\n",
      "        nrg.append(random.normal(4*c**2,1.5*c**2)) #gaussian distribution of energy, mean = 4 GeV/c^2, sigma = 1.5 Gev/c^2\n",
      "\n",
      "    velo = []\n",
      "    for n in range(N):\n",
      "        v = (sqrt(1 - (m/(nrg[n]))**2)) #relativistic velocity of muon \n",
      "        velo.append(v)\n",
      "    #print velo\n",
      "    t_earth = [] \n",
      "    for n in range(N):\n",
      "        t_earth.append(H[n]/velo[n]) #time an earth observer would see it take a muon to travel to the detector\n",
      "    t_muon = []\n",
      "    for n in range(N):\n",
      "        #TIME DILATION\n",
      "        t = t_earth[n] * sqrt(1 - (velo[n]**2/c**2)) #time relativistically moving muon sees it take for muon to reach earth\n",
      "        t_muon.append(t)\n",
      "        \n",
      "    t0 = min(t_muon) #arrival time of first muon\n",
      "    t0_index = t_muon.index(t0) #index of the first muon to arrive\n",
      "    delta = random.uniform(0,0.05)#deviation of time\n",
      "    t_rel = [] #array of arrival times for all other muons relative to t0\n",
      "    for n in range(N):\n",
      "        t_muon[n] -= t0 -+ delta\n",
      "        t_rel.append(t_muon[n] + delta - t_muon[t0_index])\n",
      "    #print t_rel\n",
      "    t_list = str(t_rel).strip(\"[]\")\n",
      "    f = open(\"relative times.txt\", \"w\")\n",
      "    f.write(t_list)\n",
      "    f.close()"
     ],
     "language": "python",
     "metadata": {},
     "outputs": [],
     "prompt_number": 100
    },
    {
     "cell_type": "code",
     "collapsed": false,
     "input": [
      "f = open(\"relative times.txt\", \"r\")\n",
      "f.read(len(t_rel)*N)"
     ],
     "language": "python",
     "metadata": {},
     "outputs": [
      {
       "output_type": "pyout",
       "prompt_number": 101,
       "text": [
        "'0.049931210534322618, 0.069156569744986102, 0.11243791576203435, 0.056070983607873687, 0.066407007527805179, 0.092336654645872401, 0.050541345702963342, 0.11361685122035972, 0.086971263352896316, 0.083961545719071468, 0.04993411891029112, 0.052084289150593294, 0.092256156886843216, 0.051631634209296423, 0.070396963737788171, 0.12583613575027044, 0.098591268420040096, 0.052006616342194861, 0.061959817886543506, 0.1172393708297659, 0.064871301291476585, 0.053924826398396492, 0.051702050280233253, 0.053743674146200321, 0.079838129922570361, 0.10254754800999891, 0.052484132223353158, 0.055528626479847604, 0.05734738772988493, 0.054312395593538981, 0.10353649262858092, 0.090520611223268405, 0.071645744931030181, 0.12853166076655079, 0.072113610955106183, 0.068069218943612314, 0.1130340975913218, 0.051307910385291394, 0.074318033291383118, 0.062771859849060335'"
       ]
      }
     ],
     "prompt_number": 101
    },
    {
     "cell_type": "code",
     "collapsed": false,
     "input": [],
     "language": "python",
     "metadata": {},
     "outputs": []
    }
   ],
   "metadata": {}
  }
 ]
}