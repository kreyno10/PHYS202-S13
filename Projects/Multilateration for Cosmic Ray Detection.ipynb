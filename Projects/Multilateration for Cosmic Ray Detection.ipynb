{
 "metadata": {
  "name": "Multilateration for Cosmic Ray Detection"
 },
 "nbformat": 3,
 "nbformat_minor": 0,
 "worksheets": [
  {
   "cells": [
    {
     "cell_type": "markdown",
     "metadata": {},
     "source": [
      "Table of Locations\n",
      "-"
     ]
    },
    {
     "cell_type": "markdown",
     "metadata": {},
     "source": [
      "\\begin{tabular}{|1|1|}\n",
      "\\hline\n",
      "\\multicomumn{2}{|c|}{Locations of Detectors} \\\\\n",
      "\\hline\n",
      "Origin (Area 52) & (0,0,0) \\\\\n",
      "Business Silo & (-0.43,-0.05, -0.014) \\\\\n",
      "B38 & (-0.17, +0.11, 0) \\\\\n",
      "Reinhold Aerospace & (-0.49,+0.14, - 0.017) \\\\\n",
      "Rec Center & (+0.15, - 0.27, +0.001) \\\\\n",
      "Farm Shop & (-0.13, +0.35, -0.001) \\\\\n",
      "UU & (+0.11, -0.17, +0.001) \\\\\n",
      "Cerro Hollister & (+0.17, +0.42, +0.0024) \\\\\n",
      "Sierra Madre Tower 1 & (+0.49, - 0.22, +0.024) \\\\\n",
      "\\hline\n",
      "\\end{tabular}"
     ]
    },
    {
     "cell_type": "code",
     "collapsed": false,
     "input": [
      "#locations of detectors in the order they are in the table so the origin \n",
      "#is index [0], etc. Coordinates are with respect to the origin, the new science building. \n",
      "locx = [0, -0.43, -0.17, -0.49, 0.15, -0.13,0.11,0.17,0.49] #x coordinates of the detectors\n",
      "locy = [0, -0.05, 0.115, 0.14, -0.27, 0.35,-0.17, 0.42, -0.22] #y coords of detectors\n",
      "N = 1 #THIS IS SUPER IMPORTANT. IT IS THE NUMBER OF MUON INTERACTIONS. \n",
      "h = 15. #kilometers. height from earth of first collision\n",
      "theta = .0174 #radians. the cone projected onto earth opens with half angle = 1\n",
      "x = zeros(N, float); y = zeros(N, float); angle = zeros(N, float) #random x, y, angle for interactions in top of atmosphere\n",
      "for n in range(N):\n",
      "    x[n] = random.uniform(-0.65, 0.65)\n",
      "    y[n] = random.uniform(-0.65, 0.65)\n",
      "    angle[n] = random.uniform(0, pi/30)\n",
      "H = zeros(N, float); Rcone = zeros(N, float)\n",
      "for n in range(N):\n",
      "    H[n] = h / cos(angle[n]) #distance from first interactions to earth \n",
      "    Rcone[n] = H[n] * sin(theta) # radius of the cone on ground\n",
      "print x, y, angle, H, Rcone"
     ],
     "language": "python",
     "metadata": {},
     "outputs": [
      {
       "output_type": "stream",
       "stream": "stdout",
       "text": [
        "[-0.14528381] [ 0.29766202] [ 0.06266196] [ 15.02949716] [ 0.26150005]\n"
       ]
      }
     ],
     "prompt_number": 33
    },
    {
     "cell_type": "code",
     "collapsed": false,
     "input": [
      "D = zeros(N, float)\n",
      "for n in range(N):\n",
      "    D[n] = h*sin(angle[n])#distance from center of projected cone to origin (new Science building)\n",
      "\n",
      "count = 0 #number of detectors hit\n",
      " \n",
      "for n in range(1):\n",
      "    for i in range(0,9):\n",
      "        if locx[i] > x[n]+D[n]-Rcone[n] and locx[i] < x[n]+D[n]+Rcone[n] and locy[i] > y[n]+D[n]-Rcone[n] and locy[i] < y[n]+D[n]+Rcone[n]:\n",
      "            count += 1\n",
      "\n",
      "            \n",
      "print \"number of muons detected =\", count\n",
      "    \n"
     ],
     "language": "python",
     "metadata": {},
     "outputs": [
      {
       "output_type": "stream",
       "stream": "stdout",
       "text": [
        "number of muons detected = 0\n"
       ]
      }
     ],
     "prompt_number": 34
    },
    {
     "cell_type": "code",
     "collapsed": false,
     "input": [
      "if count > 3: #the interaction counts, continue\n",
      "    nrg = []\n",
      "    c = 3.*10**8 #speed of light\n",
      "    m = .1057 #mass of single muon in GeV/c^2\n",
      "    for n in range(N):\n",
      "        nrg.append(random.normal(4,1.5)) #gaussian distribution of energy, mean = 4 GeV/c^2, sigma = 1.5 Gev/c^2\n",
      "    print nrg[4]\n",
      "    velo = []\n",
      "    for n in range(N):\n",
      "        v = (sqrt(1 - (m/(nrg[n]))**2))*c #relativistic velocity of muon \n",
      "        velo.append(v)\n",
      "    print velo[4]\n",
      "    t = [] \n",
      "    for n in range(N):\n",
      "        t.append(H[n]/velo[n]) #time an earth observer would see it take a muon to travel to the detector\n",
      "        \n",
      "    t0 = min(t) #arrival time of first muon\n",
      "    t0_index = t.index(t0) #index of the first muon to arrive\n",
      "    delta = random.uniform(0,0.05)#deviation of time\n",
      "    t_rel = [] #array of arrival times for all other muons relative to t0\n",
      "    for n in range(N):\n",
      "        t[n] -= t0 -+ delta\n",
      "        t_rel.append(t[n] + delta - t[t0_index])\n",
      "    #print t_rel\n",
      "    t_list = str(t_rel).strip(\"[]\")\n",
      "    f = open(\"relative times.txt\", \"w\")\n",
      "    f.write(t_list)\n",
      "    f.close()"
     ],
     "language": "python",
     "metadata": {},
     "outputs": [],
     "prompt_number": 35
    },
    {
     "cell_type": "code",
     "collapsed": false,
     "input": [
      "f = open(\"relative times.txt\", \"r\")\n",
      "f.read(len(t_rel)*N)"
     ],
     "language": "python",
     "metadata": {},
     "outputs": [
      {
       "ename": "NameError",
       "evalue": "name 't_rel' is not defined",
       "output_type": "pyerr",
       "traceback": [
        "\u001b[1;31m---------------------------------------------------------------------------\u001b[0m\n\u001b[1;31mNameError\u001b[0m                                 Traceback (most recent call last)",
        "\u001b[1;32m<ipython-input-36-9d8b49abab84>\u001b[0m in \u001b[0;36m<module>\u001b[1;34m()\u001b[0m\n\u001b[0;32m      1\u001b[0m \u001b[0mf\u001b[0m \u001b[1;33m=\u001b[0m \u001b[0mopen\u001b[0m\u001b[1;33m(\u001b[0m\u001b[1;34m\"relative times.txt\"\u001b[0m\u001b[1;33m,\u001b[0m \u001b[1;34m\"r\"\u001b[0m\u001b[1;33m)\u001b[0m\u001b[1;33m\u001b[0m\u001b[0m\n\u001b[1;32m----> 2\u001b[1;33m \u001b[0mf\u001b[0m\u001b[1;33m.\u001b[0m\u001b[0mread\u001b[0m\u001b[1;33m(\u001b[0m\u001b[0mlen\u001b[0m\u001b[1;33m(\u001b[0m\u001b[0mt_rel\u001b[0m\u001b[1;33m)\u001b[0m\u001b[1;33m*\u001b[0m\u001b[0mN\u001b[0m\u001b[1;33m)\u001b[0m\u001b[1;33m\u001b[0m\u001b[0m\n\u001b[0m",
        "\u001b[1;31mNameError\u001b[0m: name 't_rel' is not defined"
       ]
      }
     ],
     "prompt_number": 36
    },
    {
     "cell_type": "code",
     "collapsed": false,
     "input": [
      "x = [(0)]\n",
      "y = [(0)]\n",
      "angle = [(0)]\n",
      "H = zeros(1, float); Rcone = zeros(1, float)\n",
      "for n in range(1):\n",
      "    H[n] = h / cos(angle[n]) #distance from first interactions to earth \n",
      "    Rcone[n] = H[n] * sin(theta) # radius of the cone on ground\n",
      "print x, y, angle, H, Rcone"
     ],
     "language": "python",
     "metadata": {},
     "outputs": [
      {
       "output_type": "stream",
       "stream": "stdout",
       "text": [
        "[0] [0] [0] [ 15.] [ 0.26098683]\n"
       ]
      }
     ],
     "prompt_number": 92
    },
    {
     "cell_type": "code",
     "collapsed": false,
     "input": [
      "D = zeros(1, float)\n",
      "for n in range(1):\n",
      "    D[n] = h*sin(angle[n])#distance from center of projected cone to origin (new Science building)\n",
      "\n",
      "count = 0 #number of detectors hit\n",
      "dethit = [] \n",
      "for n in range(1):\n",
      "    for i in range(0,9):\n",
      "        if locx[i] > x[n]+D[n]-Rcone[n] and locx[i] < x[n]+D[n]+Rcone[n] and locy[i] > y[n]+D[n]-Rcone[n] and locy[i] < y[n]+D[n]+Rcone[n]:\n",
      "            count += 1\n",
      "            dethit.append(i)\n",
      "print \"number of muons detected =\", count, \"detectors hit are: \", dethit"
     ],
     "language": "python",
     "metadata": {},
     "outputs": [
      {
       "output_type": "stream",
       "stream": "stdout",
       "text": [
        "number of muons detected = 3 detectors hit are:  [0, 2, 6]\n"
       ]
      }
     ],
     "prompt_number": 93
    },
    {
     "cell_type": "code",
     "collapsed": false,
     "input": [
      "D = []\n",
      "for i in dethit:\n",
      "    D.append(sqrt(locx[i]**2 + locy[i]**2))\n",
      "print D\n",
      "small = D.index(min(D))\n",
      "large = D.index(max(D))\n",
      "print small, large\n",
      "firsthit = dethit[small]\n",
      "lasthit = dethit[large]\n",
      "print \"first hit=\",\"detector\",firsthit, \"last hit=\",\"detector\",lasthit\n"
     ],
     "language": "python",
     "metadata": {},
     "outputs": [
      {
       "output_type": "stream",
       "stream": "stdout",
       "text": [
        "[0.0, 0.20524375751773793, 0.20248456731316589]\n",
        "0 1\n",
        "first hit= detector 0 last hit= detector 2\n"
       ]
      }
     ],
     "prompt_number": 104
    },
    {
     "cell_type": "code",
     "collapsed": false,
     "input": [
      "\n",
      "\n",
      "nrg = []\n",
      "c = 3.*10**8 #speed of light\n",
      "m = .1057 #mass of single muon in GeV/c^2\n",
      "for n in range(9):\n",
      "    nrg.append(random.normal(4,1.5)) #gaussian distribution of energy, mean = 4 GeV/c^2, sigma = 1.5 Gev/c^2\n",
      "print nrg\n",
      "velo = []\n",
      "for n in range(9):\n",
      "    v = (sqrt(1 - (m/(nrg[n]))**2))*c #relativistic velocity of muon \n",
      "    velo.append(v)\n",
      "print velo\n",
      "time = [] \n",
      "for n in range(9):\n",
      "    time.append(H/velo[n]) #time an earth observer would see it take a muon to travel to the detector\n",
      "print time   \n",
      "\n",
      "t0 = min(time) #arrival time of first muon\n",
      "delta = random.uniform(0,0.05)#deviation of time\n",
      "print delta\n",
      "dettime = ones(8, float)*(-1) #array of arrival times for all other muons relative to t0\n",
      "for i in dethit:\n",
      "    if i == firsthit:\n",
      "        dettime[i] = 0\n",
      "    else:\n",
      "        dettime[i] = time[i] - (t0 + delta*time[i])\n",
      "print dettime"
     ],
     "language": "python",
     "metadata": {},
     "outputs": [
      {
       "output_type": "stream",
       "stream": "stdout",
       "text": [
        "[4.493959167590914, 4.288410678188385, 3.328294923564223, 1.874153857638249, 4.100829870819494, 0.419545544595163, 9.485375940916732, 4.486478111427492, 4.13277474383786]\n",
        "[299917006.69373506, 299908858.85687423, 299848676.22248769, 299522496.54594213, 299900328.75581807, 290322913.65014571, 299981372.88395959, 299916729.64725006, 299901863.89810508]\n",
        "[array([  5.00138360e-08]), array([  5.00151948e-08]), array([  5.00252334e-08]), array([  5.00797108e-08]), array([  5.00166174e-08]), array([  5.16666074e-08]), array([  5.00031047e-08]), array([  5.00138822e-08]), array([  5.00163614e-08])]\n",
        "0.0311178620603\n",
        "[  0.00000000e+00  -1.00000000e+00  -1.53454967e-09  -1.00000000e+00\n",
        "  -1.00000000e+00  -1.00000000e+00  -1.55598972e-09  -1.00000000e+00]\n"
       ]
      }
     ],
     "prompt_number": 149
    },
    {
     "cell_type": "code",
     "collapsed": false,
     "input": [
      "\n"
     ],
     "language": "python",
     "metadata": {},
     "outputs": [],
     "prompt_number": 142
    },
    {
     "cell_type": "code",
     "collapsed": false,
     "input": [],
     "language": "python",
     "metadata": {},
     "outputs": []
    }
   ],
   "metadata": {}
  }
 ]
}