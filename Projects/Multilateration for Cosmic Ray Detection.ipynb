{
 "metadata": {
  "name": "Multilateration for Cosmic Ray Detection"
 },
 "nbformat": 3,
 "nbformat_minor": 0,
 "worksheets": [
  {
   "cells": [
    {
     "cell_type": "markdown",
     "metadata": {},
     "source": [
      "Table of Locations\n",
      "-"
     ]
    },
    {
     "cell_type": "markdown",
     "metadata": {},
     "source": [
      "\\begin{tabular}{|1|1|}\n",
      "\\hline\n",
      "\\multicomumn{2}{|c|}{Locations of Detectors} \\\\\n",
      "\\hline\n",
      "Origin (Area 52) & (0,0,0) \\\\\n",
      "Business Silo & (-0.43,-0.05, -0.014) \\\\\n",
      "B38 & (-0.17, +0.11, 0) \\\\\n",
      "Reinhold Aerospace & (-0.49,+0.14, - 0.017) \\\\\n",
      "Rec Center & (+0.15, - 0.27, +0.001) \\\\\n",
      "Farm Shop & (-0.13, +0.35, -0.001) \\\\\n",
      "UU & (+0.11, -0.17, +0.001) \\\\\n",
      "Cerro Hollister & (+0.17, +0.42, +0.0024) \\\\\n",
      "Sierra Madre Tower 1 & (+0.49, - 0.22, +0.024) \\\\\n",
      "\\hline\n",
      "\\end{tabular}"
     ]
    },
    {
     "cell_type": "code",
     "collapsed": false,
     "input": [
      "#locations of detectors in the order they are in the table so the origin \n",
      "#is index [0], etc. Coordinates are with respect to the origin, the new science building. \n",
      " \n",
      "locx = [0, -0.43, -0.17, -0.49, 0.15, -0.13,0.11,0.17,0.49] #x coordinates of the detectors\n",
      "locy = [0, -0.05, 0.11, 0.14, -0.27, 0.35,-0.17, 0.42, -0.22] #y coords of detectors\n",
      "h = 15. #kilometers. height from earth of first collision\n",
      "x = random.uniform(-1.3, 1.3)#random x coord of first interaction in top of atmosphere\n",
      "y = random.uniform(-1.3, 1.3)#random y coord of first interaction in top of atmosphere\n",
      "angle = random.uniform(0, pi/30)#random angle of first interaction in top of atmosphere\n",
      "H = h / cos(angle) #distance from first interaction to earth \n",
      "print H, angle\n",
      "theta = .0174 #radians. the cone projected onto earth opens with half angle = 1\n",
      "Rcone = H * sin(theta) # radius of the cone on ground"
     ],
     "language": "python",
     "metadata": {},
     "outputs": [
      {
       "output_type": "stream",
       "stream": "stdout",
       "text": [
        "15.0031761348 0.0205769271347\n"
       ]
      }
     ],
     "prompt_number": 18
    },
    {
     "cell_type": "code",
     "collapsed": false,
     "input": [
      "D = h*sin(angle)#distance from center of projected cone to origin (new Science building)\n",
      "print x, D, Rcone\n",
      "print x + D - Rcone\n",
      "count = 0 #number of detectors hit\n",
      "#projected cone is outside of the r = 1.3km circle on earth \n",
      "if abs(x + D - Rcone) > 2.6 or abs(y + D - Rcone) > 2.6:\n",
      "    count += 0 \n",
      "    print \"number of muons detected =\", count\n",
      "else: \n",
      "    for n in range(0,9):\n",
      "        if locx[n] in range(int(x+D-Rcone),int(x+D+Rcone)) or locy[n] in range(int(y+D-Rcone),int(y+D+Rcone)):\n",
      "            count += 1\n",
      "    print \"number of muons detected =\", count\n",
      "    \n"
     ],
     "language": "python",
     "metadata": {},
     "outputs": [
      {
       "output_type": "stream",
       "stream": "stdout",
       "text": [
        "1.23383592492 0.308632126294 0.261042092096\n",
        "1.28142595912\n",
        "number of muons detected = 1\n"
       ]
      }
     ],
     "prompt_number": 19
    },
    {
     "cell_type": "code",
     "collapsed": false,
     "input": [],
     "language": "python",
     "metadata": {},
     "outputs": [],
     "prompt_number": 50
    },
    {
     "cell_type": "code",
     "collapsed": false,
     "input": [],
     "language": "python",
     "metadata": {},
     "outputs": []
    }
   ],
   "metadata": {}
  }
 ]
}