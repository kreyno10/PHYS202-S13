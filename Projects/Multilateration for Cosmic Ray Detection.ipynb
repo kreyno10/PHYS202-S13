{
 "metadata": {
  "name": "Multilateration for Cosmic Ray Detection"
 },
 "nbformat": 3,
 "nbformat_minor": 0,
 "worksheets": [
  {
   "cells": [
    {
     "cell_type": "markdown",
     "metadata": {},
     "source": [
      "Table of Locations\n",
      "-"
     ]
    },
    {
     "cell_type": "markdown",
     "metadata": {},
     "source": [
      "\\begin{tabular}{|1|1|}\n",
      "\\hline\n",
      "\\multicomumn{2}{|c|}{Locations of Detectors} \\\\\n",
      "\\hline\n",
      "Origin (Area 52) & (0,0,0) \\\\\n",
      "Business Silo & (-0.43,-0.05, -0.014) \\\\\n",
      "B38 & (-0.17, +0.11, 0) \\\\\n",
      "Reinhold Aerospace & (-0.49,+0.14, - 0.017) \\\\\n",
      "Rec Center & (+0.15, - 0.27, +0.001) \\\\\n",
      "Farm Shop & (-0.13, +0.35, -0.001) \\\\\n",
      "UU & (+0.11, -0.17, +0.001) \\\\\n",
      "Cerro Hollister & (+0.17, +0.42, +0.0024) \\\\\n",
      "Sierra Madre Tower 1 & (+0.49, - 0.22, +0.024) \\\\\n",
      "\\hline\n",
      "\\end{tabular}"
     ]
    },
    {
     "cell_type": "code",
     "collapsed": false,
     "input": [
      "#locations of detectors in the order they are in the table so the origin \n",
      "#is index [0], etc. Coordinates are with respect to the origin, the new science building. \n",
      "locx = [0, -0.43, -0.17, -0.49, 0.15, -0.13,0.11,0.17,0.49] #x coordinates of the detectors\n",
      "locy = [0, -0.05, 0.11, 0.14, -0.27, 0.35,-0.17, 0.42, -0.22] #y coords of detectors\n",
      "N = 100 #THIS IS SUPER IMPORTANT. IT IS THE NUMBER OF MUON INTERACTIONS. \n",
      "h = 15. #kilometers. height from earth of first collision\n",
      "theta = .0174 #radians. the cone projected onto earth opens with half angle = 1\n",
      "x = zeros(N, float); y = zeros(N, float); angle = zeros(N, float) #random x, y, angle for interactions in top of atmosphere\n",
      "for n in range(N):\n",
      "    x[n] = random.uniform(-0.65, 0.65)\n",
      "    y[n] = random.uniform(-0.65, 0.65)\n",
      "    angle[n] = random.uniform(0, pi/30)\n",
      "H = zeros(N, float); Rcone = zeros(N, float)\n",
      "for n in range(N):\n",
      "    H[n] = h / cos(angle[n]) #distance from first interactions to earth \n",
      "    Rcone[n] = H[n] * sin(theta) # radius of the cone on ground"
     ],
     "language": "python",
     "metadata": {},
     "outputs": [],
     "prompt_number": 2
    },
    {
     "cell_type": "code",
     "collapsed": false,
     "input": [
      "D = zeros(N, float)\n",
      "for n in range(N):\n",
      "    D[n] = h*sin(angle[n])#distance from center of projected cone to origin (new Science building)\n",
      "\n",
      "count = 0 #number of detectors hit\n",
      " \n",
      "for n in range(N):\n",
      "    for i in range(0,9):\n",
      "        if locx[i] > x[n]+D[n]-Rcone[n] and locx[i] < x[n]+D[n]+Rcone[n] and locy[i] > y[n]+D[n]-Rcone[n] and locy[i] < y[n]+D[n]+Rcone[n]:\n",
      "            count += 1\n",
      "\n",
      "            \n",
      "print \"number of muons detected =\", count\n",
      "    \n"
     ],
     "language": "python",
     "metadata": {},
     "outputs": [
      {
       "output_type": "stream",
       "stream": "stdout",
       "text": [
        "number of muons detected = 41\n"
       ]
      }
     ],
     "prompt_number": 33
    },
    {
     "cell_type": "code",
     "collapsed": false,
     "input": [
      "if count > 3: #the interaction counts, continue\n",
      "    nrg = []\n",
      "    c = 3.*10**8 #speed of light\n",
      "    m = .1057 #mass of single muon in GeV/c^2\n",
      "    for n in range(N):\n",
      "        nrg.append(random.normal(4,1.5)) #gaussian distribution of energy, mean = 4 GeV/c^2, sigma = 1.5 Gev/c^2\n",
      "    print nrg[4]\n",
      "    velo = []\n",
      "    for n in range(N):\n",
      "        v = (sqrt(1 - (m/(nrg[n]))**2)) #relativistic velocity of muon \n",
      "        velo.append(v)\n",
      "    print velo[4]\n",
      "    t_earth = [] \n",
      "    for n in range(N):\n",
      "        t_earth.append(H[n]/velo[n]) #time an earth observer would see it take a muon to travel to the detector\n",
      "        \n",
      "    t0 = min(t_earth) #arrival time of first muon\n",
      "    t0_index = t_earth.index(t0) #index of the first muon to arrive\n",
      "    delta = random.uniform(0,0.05)#deviation of time\n",
      "    t_rel = [] #array of arrival times for all other muons relative to t0\n",
      "    for n in range(N):\n",
      "        t_earth[n] -= t0 -+ delta\n",
      "        t_rel.append(t_earth[n] + delta - t_earth[t0_index])\n",
      "    #print t_rel\n",
      "    t_list = str(t_rel).strip(\"[]\")\n",
      "    f = open(\"relative times.txt\", \"w\")\n",
      "    f.write(t_list)\n",
      "    f.close()"
     ],
     "language": "python",
     "metadata": {},
     "outputs": [
      {
       "output_type": "stream",
       "stream": "stdout",
       "text": [
        "2.67751774551\n",
        "0.99922048484\n"
       ]
      }
     ],
     "prompt_number": 47
    },
    {
     "cell_type": "code",
     "collapsed": false,
     "input": [
      "f = open(\"relative times.txt\", \"r\")\n",
      "f.read(len(t_rel)*N)"
     ],
     "language": "python",
     "metadata": {},
     "outputs": [
      {
       "output_type": "pyout",
       "prompt_number": 48,
       "text": [
        "'-14.945805265713359, -14.995721001165993, -14.941976831214014, -14.956019391450207, -14.980792770715253, -14.957591857052533, -14.985843418458858, -14.987819594945021, -14.995184549664657, -14.993667589688004, -14.986734027971599, -14.934088565768024, -14.502763314065746, -14.97101620406629, 0.0019043319640621782, 0.0099797896299298802, 0.036499368727409588, 0.047325801500682586, 0.083795949602200742, 0.006543496454646058, 0.065981179312163213, 0.017714728521540692, 0.062251770477964846, 0.021734408684353425, 0.033237877997314626, 0.015967456532481918, 0.0065745020689496388, 0.056128563624802154, 0.076821231078755964, 0.10329503944731847, 0.045782954668424337, 0.068013188569142208, 0.045161791192339464, 0.0374223538836587, 0.032479461470560834, 0.046517328194824827, 0.066282436730047883, 0.082681823947763383, 0.0070982621234909945, 0.046564355204089337, 0.038878918095808714, 0.066975575841268259, 0.0042142415375528205, 0.0064263930247454911, 0.017066467804292031, 0.084284382774836991, 0.016427024734814423, 0.048191510554951335, 0.05583351055891498, 0.013783676272233904, 0.029051508131510174, 0.0039877692070886869, 0.075229145941835746, 0.056540069664705185, 0.041666419056812599, 0.020002028551020103, 0.0096150559960000211, 0.069223543115394498, 0.010357840384279482, 0.077918133197090206, 0.0062670733301191436, 0.0041327983374737417, 0.080876995562106507, 0.016634254385443227, 0.029190791497669934, 0.0052125599558570431, 0.019330915879121092, 0.086917466268951166, 0.07963259808890924, 0.070481479927194918, 0.051401896006642502, 0.014469918694858065, 0.021572965170313409, 0.015768355522012313, 0.036595398387759416, 0.01069758752270914, 0.047319942257670035, 0.042029335885517084, 0.060091973887048268, 0.018012087878603679, 0.034416443118382246, 0.075516597159830418, 0.013967847163315596, 0.012522142331266506, 0.034058936996788559, 0.012613617549461364, 0.084755349419709552, 0.026404116173625737, 0.0063464038693039956, 0.021862199036264442, 0.0032319936287850456, 0.0062520220431503733, 0.070787728634372576, 0.008435781845311607, 0.0054465784242898937, 0.059483724624048974, 0.0073036924717291615, 0.039713590035428438, 0.067666220101631175, 0.01779521160874168'"
       ]
      }
     ],
     "prompt_number": 48
    },
    {
     "cell_type": "code",
     "collapsed": false,
     "input": [],
     "language": "python",
     "metadata": {},
     "outputs": []
    }
   ],
   "metadata": {}
  }
 ]
}