{
 "metadata": {
  "name": "Multilateration for Cosmic Ray Detection"
 },
 "nbformat": 3,
 "nbformat_minor": 0,
 "worksheets": [
  {
   "cells": [
    {
     "cell_type": "markdown",
     "metadata": {},
     "source": [
      "Table of Locations\n",
      "-"
     ]
    },
    {
     "cell_type": "markdown",
     "metadata": {},
     "source": [
      "\\begin{tabular}{|1|1|}\n",
      "\\hline\n",
      "\\multicomumn{2}{|c|}{Locations of Detectors} \\\\\n",
      "\\hline\n",
      "Origin (Area 52) & (0,0,0) \\\\\n",
      "Business Silo & (-0.43,-0.05, -0.014) \\\\\n",
      "B38 & (-0.17, +0.11, 0) \\\\\n",
      "Reinhold Aerospace & (-0.49,+0.14, - 0.017) \\\\\n",
      "Rec Center & (+0.15, - 0.27, +0.001) \\\\\n",
      "Farm Shop & (-0.13, +0.35, -0.001) \\\\\n",
      "UU & (+0.11, -0.17, +0.001) \\\\\n",
      "Cerro Hollister & (+0.17, +0.42, +0.0024) \\\\\n",
      "Sierra Madre Tower 1 & (+0.49, - 0.22, +0.024) \\\\\n",
      "\\hline\n",
      "\\end{tabular}"
     ]
    },
    {
     "cell_type": "code",
     "collapsed": false,
     "input": [
      "#locations of detectors in the order they are in the table so the origin \n",
      "#is index [0], etc. Coordinates are with respect to the origin, the new science building. \n",
      "locx = [0, -0.43, -0.17, -0.49, 0.15, -0.13,0.11,0.17,0.49] #x coordinates of the detectors\n",
      "locy = [0, -0.05, 0.11, 0.14, -0.27, 0.35,-0.17, 0.42, -0.22] #y coords of detectors\n",
      "N = 40 #THIS IS SUPER IMPORTANT. IT IS THE NUMBER OF MUON INTERACTIONS. \n",
      "h = 15. #kilometers. height from earth of first collision\n",
      "theta = .0174 #radians. the cone projected onto earth opens with half angle = 1\n",
      "x = []; y = []; angle = [] #random x, y, angle for interactions in top of atmosphere\n",
      "for n in range(N):\n",
      "    x.append(random.uniform(-0.65, 0.65))\n",
      "    y.append(random.uniform(-0.65, 0.65))\n",
      "    angle.append(random.uniform(0, pi/10))\n",
      "H = []; Rcone = []\n",
      "for n in range(N):\n",
      "    H.append(h / cos(angle[n])) #distance from first interactions to earth \n",
      "    Rcone.append(H[n] * sin(theta)) # radius of the cone on ground"
     ],
     "language": "python",
     "metadata": {},
     "outputs": [],
     "prompt_number": 29
    },
    {
     "cell_type": "code",
     "collapsed": false,
     "input": [
      "D = []\n",
      "for n in range(N):\n",
      "    D.append(h*sin(angle[n]))#distance from center of projected cone to origin (new Science building)\n",
      "\n",
      "count = 0 #number of detectors hit\n",
      " \n",
      "for i in range(0,9):\n",
      "    for n in range(N):\n",
      "        if locx[i] in range(int(x[n]+D[n]-Rcone[n]),int(x[n]+D[n]+Rcone[n])) or locy[i] in range(int(y[n]+D[n]-Rcone[n]),int(y[n]+D[n]+Rcone[n])):\n",
      "            count += 1\n",
      "\n",
      "print \"number of muons detected =\", count\n",
      "    \n"
     ],
     "language": "python",
     "metadata": {},
     "outputs": [
      {
       "output_type": "stream",
       "stream": "stdout",
       "text": [
        "number of muons detected = 9\n"
       ]
      }
     ],
     "prompt_number": 30
    },
    {
     "cell_type": "code",
     "collapsed": false,
     "input": [
      "if count > 3: #the interaction counts, continue\n",
      "    nrg = []\n",
      "    c = 3.*10**8 #speed of light\n",
      "    m = .1057 #mass of single muon in GeV/c^2\n",
      "    for n in range(N):\n",
      "        nrg.append(random.normal(4*c**2,1.5*c**2)) #gaussian distribution of energy, mean = 4 GeV/c^2, sigma = 1.5 Gev/c^2\n",
      "\n",
      "    velo = []\n",
      "    for n in range(N):\n",
      "        v = (sqrt(1 - (m/(nrg[n]))**2)) #relativistic velocity of muon \n",
      "        velo.append(v)\n",
      "    print velo\n",
      "    t_earth = [] \n",
      "    for n in range(N):\n",
      "        t_earth.append(H[n]/velo[n]) #time an earth observer would see it take a muon to travel to the detector\n",
      "    t_muon = []\n",
      "    for n in range(N):\n",
      "        #TIME DILATION\n",
      "        t = t_earth[n] * sqrt(1 - (velo[n]**2/c**2)) #time relativistically moving muon sees it take for muon to reach earth\n",
      "        t_muon.append(t)\n",
      "        \n",
      "    t0 = min(t_muon) #arrival time of first muon\n",
      "    t0_index = t_muon.index(t0) #index of the first muon to arrive\n",
      "    delta = random.uniform(0,0.05)#deviation of time\n",
      "    t_rel = [] #array of arrival times for all other muons relative to t0\n",
      "    for n in range(N):\n",
      "        t_muon[n] -= t0 -+ delta\n",
      "        t_rel.append(t_muon[n] + delta - t_muon[t0_index])\n",
      "    print t_rel"
     ],
     "language": "python",
     "metadata": {},
     "outputs": [
      {
       "output_type": "stream",
       "stream": "stdout",
       "text": [
        "[1.0, 1.0, 1.0, 1.0, 1.0, 1.0, 1.0, 1.0, 1.0, 1.0, 1.0, 1.0, 1.0, 1.0, 1.0, 1.0, 1.0, 1.0, 1.0, 1.0, 1.0, 1.0, 1.0, 1.0, 1.0, 1.0, 1.0, 1.0, 1.0, 1.0, 1.0, 1.0, 1.0, 1.0, 1.0, 1.0, 1.0, 1.0, 1.0, 1.0]\n",
        "[-14.495529070229905, -14.533939710719221, -14.773471173996461, -14.816073381423015, -14.788290214328072, -14.723403851455952, -14.766338443291776, -14.794347356992017, -14.529920013533463, -14.974324452785265, -14.262168028277019, -14.715160096240751, -14.513955896778716, -14.277596897341677, -14.807477181440854, -14.816434621498351, -14.48800134516112, -14.719655520588921, -14.93700336266642, -14.775867328267527, -14.84992325791363, -14.848439105871849, -14.843306225903149, -14.94389231343332, -14.913692237218482, -14.935086111044876, -14.527651353674608, -14.980369070205574, -14.477267973266596, -14.967635597370162, -14.937333258272105, -14.983682912287801, -14.907099331207236, -14.949442623025522, -14.977509883189667, -14.654153566846993, -14.96798499275009, 0.0074347901695937801, 0.038882998424773246, 0.38134076719491727]\n"
       ]
      }
     ],
     "prompt_number": 66
    },
    {
     "cell_type": "code",
     "collapsed": false,
     "input": [],
     "language": "python",
     "metadata": {},
     "outputs": [],
     "prompt_number": 17
    },
    {
     "cell_type": "code",
     "collapsed": false,
     "input": [],
     "language": "python",
     "metadata": {},
     "outputs": []
    }
   ],
   "metadata": {}
  }
 ]
}