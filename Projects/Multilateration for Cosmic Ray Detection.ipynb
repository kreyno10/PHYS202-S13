{
 "metadata": {
  "name": "Multilateration for Cosmic Ray Detection"
 },
 "nbformat": 3,
 "nbformat_minor": 0,
 "worksheets": [
  {
   "cells": [
    {
     "cell_type": "markdown",
     "metadata": {},
     "source": [
      "Table of Locations\n",
      "-"
     ]
    },
    {
     "cell_type": "markdown",
     "metadata": {},
     "source": [
      "\\begin{tabular}{|1|1|}\n",
      "\\hline\n",
      "\\multicomumn{2}{|c|}{Locations of Detectors} \\\\\n",
      "\\hline\n",
      "Origin (Area 52) & (0,0,0) \\\\\n",
      "Business Silo & (-0.43,-0.05, -0.014) \\\\\n",
      "B38 & (-0.17, +0.11, 0) \\\\\n",
      "Reinhold Aerospace & (-0.49,+0.14, - 0.017) \\\\\n",
      "Rec Center & (+0.15, - 0.27, +0.001) \\\\\n",
      "Farm Shop & (-0.13, +0.35, -0.001) \\\\\n",
      "UU & (+0.11, -0.17, +0.001) \\\\\n",
      "Cerro Hollister & (+0.17, +0.42, +0.0024) \\\\\n",
      "Sierra Madre Tower 1 & (+0.49, - 0.22, +0.024) \\\\\n",
      "\\hline\n",
      "\\end{tabular}"
     ]
    },
    {
     "cell_type": "code",
     "collapsed": false,
     "input": [
      "#locations of detectors in the order they are in the table so the origin \n",
      "#is index [0], etc. Coordinates are with respect to the origin, the new science building. \n",
      "locx = [0, -0.43, -0.17, -0.49, 0.15, -0.13,0.11,0.17,0.49] #x coordinates of the detectors\n",
      "locy = [0, -0.05, 0.115, 0.14, -0.27, 0.35,-0.17, 0.42, -0.22] #y coords of detectors\n",
      "N = 1 #THIS IS SUPER IMPORTANT. IT IS THE NUMBER OF MUON INTERACTIONS. \n",
      "h = 15. #kilometers. height from earth of first collision\n",
      "theta = .0174 #radians. the cone projected onto earth opens with half angle = 1\n",
      "x = zeros(N, float); y = zeros(N, float); angle = zeros(N, float) #random x, y, angle for interactions in top of atmosphere\n",
      "for n in range(N):\n",
      "    x[n] = random.uniform(-0.65, 0.65)\n",
      "    y[n] = random.uniform(-0.65, 0.65)\n",
      "    angle[n] = random.uniform(0, pi/30)\n",
      "H = zeros(N, float); Rcone = zeros(N, float)\n",
      "for n in range(N):\n",
      "    H[n] = h / cos(angle[n]) #distance from first interactions to earth \n",
      "    Rcone[n] = H[n] * sin(theta) # radius of the cone on ground\n",
      "print x, y, angle, H, Rcone"
     ],
     "language": "python",
     "metadata": {},
     "outputs": [
      {
       "output_type": "stream",
       "stream": "stdout",
       "text": [
        "[-0.40788584] [-0.56582838] [ 0.01198556] [ 15.00107747] [ 0.26100558]\n"
       ]
      }
     ],
     "prompt_number": 1
    },
    {
     "cell_type": "code",
     "collapsed": false,
     "input": [
      "D = zeros(N, float)\n",
      "for n in range(N):\n",
      "    D[n] = h*sin(angle[n])#distance from center of projected cone to origin (new Science building)\n",
      "\n",
      "count = 0 #number of detectors hit\n",
      " \n",
      "for n in range(1):\n",
      "    for i in range(0,9):\n",
      "        if locx[i] > x[n]+D[n]-Rcone[n] and locx[i] < x[n]+D[n]+Rcone[n] and locy[i] > y[n]+D[n]-Rcone[n] and locy[i] < y[n]+D[n]+Rcone[n]:\n",
      "            count += 1\n",
      "\n",
      "            \n",
      "print \"number of muons detected =\", count\n",
      "    \n"
     ],
     "language": "python",
     "metadata": {},
     "outputs": [
      {
       "output_type": "stream",
       "stream": "stdout",
       "text": [
        "number of muons detected = 0\n"
       ]
      }
     ],
     "prompt_number": 2
    },
    {
     "cell_type": "code",
     "collapsed": false,
     "input": [
      "if count > 3: #the interaction counts, continue\n",
      "    nrg = []\n",
      "    c = 3.*10**8 #speed of light\n",
      "    m = .1057 #mass of single muon in GeV/c^2\n",
      "    for n in range(N):\n",
      "        nrg.append(random.normal(4,1.5)) #gaussian distribution of energy, mean = 4 GeV/c^2, sigma = 1.5 Gev/c^2\n",
      "    print nrg[4]\n",
      "    velo = []\n",
      "    for n in range(N):\n",
      "        v = (sqrt(1 - (m/(nrg[n]))**2))*c #relativistic velocity of muon \n",
      "        velo.append(v)\n",
      "    print velo[4]\n",
      "    t = [] \n",
      "    for n in range(N):\n",
      "        t.append(H[n]/velo[n]) #time an earth observer would see it take a muon to travel to the detector\n",
      "        \n",
      "    t0 = min(t) #arrival time of first muon\n",
      "    t0_index = t.index(t0) #index of the first muon to arrive\n",
      "    delta = random.uniform(0,0.05)#deviation of time\n",
      "    t_rel = [] #array of arrival times for all other muons relative to t0\n",
      "    for n in range(N):\n",
      "        t[n] -= t0 -+ delta\n",
      "        t_rel.append(t[n] + delta - t[t0_index])\n",
      "    #print t_rel\n",
      "    t_list = str(t_rel).strip(\"[]\")\n",
      "    f = open(\"relative times.txt\", \"w\")\n",
      "    f.write(t_list)\n",
      "    f.close()"
     ],
     "language": "python",
     "metadata": {},
     "outputs": [],
     "prompt_number": 3
    },
    {
     "cell_type": "code",
     "collapsed": false,
     "input": [
      "f = open(\"relative times.txt\", \"r\")\n",
      "f.read(len(t_rel)*N)"
     ],
     "language": "python",
     "metadata": {},
     "outputs": [
      {
       "ename": "NameError",
       "evalue": "name 't_rel' is not defined",
       "output_type": "pyerr",
       "traceback": [
        "\u001b[1;31m---------------------------------------------------------------------------\u001b[0m\n\u001b[1;31mNameError\u001b[0m                                 Traceback (most recent call last)",
        "\u001b[1;32m<ipython-input-4-9d8b49abab84>\u001b[0m in \u001b[0;36m<module>\u001b[1;34m()\u001b[0m\n\u001b[0;32m      1\u001b[0m \u001b[0mf\u001b[0m \u001b[1;33m=\u001b[0m \u001b[0mopen\u001b[0m\u001b[1;33m(\u001b[0m\u001b[1;34m\"relative times.txt\"\u001b[0m\u001b[1;33m,\u001b[0m \u001b[1;34m\"r\"\u001b[0m\u001b[1;33m)\u001b[0m\u001b[1;33m\u001b[0m\u001b[0m\n\u001b[1;32m----> 2\u001b[1;33m \u001b[0mf\u001b[0m\u001b[1;33m.\u001b[0m\u001b[0mread\u001b[0m\u001b[1;33m(\u001b[0m\u001b[0mlen\u001b[0m\u001b[1;33m(\u001b[0m\u001b[0mt_rel\u001b[0m\u001b[1;33m)\u001b[0m\u001b[1;33m*\u001b[0m\u001b[0mN\u001b[0m\u001b[1;33m)\u001b[0m\u001b[1;33m\u001b[0m\u001b[0m\n\u001b[0m",
        "\u001b[1;31mNameError\u001b[0m: name 't_rel' is not defined"
       ]
      }
     ],
     "prompt_number": 4
    },
    {
     "cell_type": "code",
     "collapsed": false,
     "input": [
      "#x = [(0)]\n",
      "#y = [(0)]\n",
      "#angle = [(0)]\n",
      "#H = zeros(1, float); Rcone = zeros(1, float)\n",
      "#for n in range(1):\n",
      "    #H[n] = h / cos(angle[n]) #distance from first interactions to earth \n",
      "    #Rcone[n] = H[n] * sin(theta) # radius of the cone on ground\n",
      "#print x, y, angle, H, Rcone\n",
      "\n",
      "#locations of detectors in the order they are in the table so the origin \n",
      "#is index [0], etc. Coordinates are with respect to the origin, the new science building. \n",
      "locx = [0, -0.43, -0.17, -0.49, 0.15, -0.13,0.11,0.17,0.49] #x coordinates of the detectors\n",
      "locy = [0, -0.05, 0.115, 0.14, -0.27, 0.35,-0.17, 0.42, -0.22] #y coords of detectors\n",
      "N = 40 #THIS IS SUPER IMPORTANT. IT IS THE NUMBER OF MUON INTERACTIONS. \n",
      "h = 15. #kilometers. height from earth of first collision\n",
      "theta = .0174 #radians. the cone projected onto earth opens with half angle = 1\n",
      "x = zeros(N, float); y = zeros(N, float); angle = zeros(N, float) #random x, y, angle for interactions in top of atmosphere\n",
      "for n in range(N):\n",
      "    x[n] = random.uniform(-0.65, 0.65)\n",
      "    y[n] = random.uniform(-0.65, 0.65)\n",
      "    angle[n] = random.uniform(0, pi/30)\n",
      "H = zeros(N, float); Rcone = zeros(N, float)\n",
      "for n in range(N):\n",
      "    H[n] = h / cos(angle[n]) #distance from first interactions to earth \n",
      "    Rcone[n] = H[n] * sin(theta) # radius of the cone on ground\n",
      "#print x, y, angle, H, Rcone"
     ],
     "language": "python",
     "metadata": {},
     "outputs": [],
     "prompt_number": 42
    },
    {
     "cell_type": "code",
     "collapsed": false,
     "input": [
      "D = zeros(N, float)\n",
      "for n in range(N):\n",
      "    D[n] = h*sin(angle[n])#distance from center of projected cone to origin (new Science building)\n",
      "\n",
      "count = 0 #number of detectors hit\n",
      "dethit = []\n",
      "num_collisions = []\n",
      "for n in range(N):\n",
      "    #print n\n",
      "    for i in range(0,9):\n",
      "        if locx[i] > x[n]+D[n]-Rcone[n] and locx[i] < x[n]+D[n]+Rcone[n] and locy[i] > y[n]+D[n]-Rcone[n] and locy[i] < y[n]+D[n]+Rcone[n]:\n",
      "            count += 1\n",
      "            dethit.append(i)\n",
      "            print n, dethit\n",
      "    if len(dethit) > 2: #must have at least 3 detectors hit for multilateration\n",
      "        dethit_sorted = []\n",
      "        hitlist = []\n",
      "        for i in dethit:\n",
      "            g = sqrt(locx[i]**2 + locy[i]**2) #distance from origin of detector\n",
      "            hitlist.append([i, sqrt(g**2 + h**2)]) #appending a tuple of the detector and its location from collision\n",
      "        sortedlist = sorted(hitlist, key=lambda x: x[1])#sort those yuples by smallest to largest\n",
      "        for det in sortedlist:\n",
      "            dethit_sorted.append(det[0]) #append the detectors hit in the order they were hit by muons\n",
      "        num_collisions.append(dethit_sorted)\n",
      "           \n",
      "    dethit = []\n",
      "print \"number of muons detected =\", count, \"detectors hit are: \", num_collisions"
     ],
     "language": "python",
     "metadata": {},
     "outputs": [
      {
       "output_type": "stream",
       "stream": "stdout",
       "text": [
        "1 [0]\n",
        "1 [0, 2]\n",
        "1 [0, 2, 4]\n",
        "1 [0, 2, 4, 6]\n",
        "2 [7]\n",
        "5 [8]\n",
        "10 [0]\n",
        "10 [0, 4]\n",
        "10 [0, 4, 6]\n",
        "14 [1]\n",
        "14 [1, 2]\n",
        "14 [1, 2, 3]\n",
        "24 [7]\n",
        "27 [0]\n",
        "27 [0, 2]\n",
        "27 [0, 2, 5]\n",
        "27 [0, 2, 5, 7]\n",
        "29 [7]\n",
        "38 [7]\n",
        "number of muons detected = 19 detectors hit are:  [[0, 6, 2, 4], [0, 6, 4], [2, 1, 3], [0, 2, 5, 7]]\n"
       ]
      }
     ],
     "prompt_number": 84
    },
    {
     "cell_type": "code",
     "collapsed": false,
     "input": [
      "nrg = zeros(N, float)\n",
      "c = 3.*10**8 #speed of light\n",
      "m = .1057 #mass of single muon in GeV/c^2\n",
      "for n in range(N):\n",
      "    nrg[n] = random.normal(4,1.5) #gaussian distribution of energy, mean = 4 GeV/c^2, sigma = 1.5 Gev/c^2\n",
      "#print nrg\n",
      "velo = zeros(N, float)\n",
      "for n in range(N):\n",
      "    v = (sqrt(1 - (m/(nrg[n]))**2))*c #relativistic velocity of muon \n",
      "    velo[n] = v\n",
      "#print velo\n",
      "time = zeros(N, float) \n",
      "for n in range(N):\n",
      "    t = H[n]/velo[n]\n",
      "    time[n] = t  #time an earth observer would see it take a muon to travel to the detector\n",
      "   \n",
      "t0 = min(time) #arrival time of first muon\n",
      "delta = random.uniform(0,0.05)#deviation of time\n",
      "times = []\n",
      "dettime = ones(10, float)*(-1) #array of arrival times for all other muons relative to t0\n",
      "for lst in num_collisions:\n",
      "    for i in lst:\n",
      "        if lst[0] == i:\n",
      "            dettime[i] = 0\n",
      "        else:\n",
      "            dettime[i] = time[i] - t0 + delta*time[i]\n",
      "    times.append(dettime)\n",
      "    dettime = ones(10, float)*(-1)\n",
      "print times"
     ],
     "language": "python",
     "metadata": {},
     "outputs": [
      {
       "output_type": "stream",
       "stream": "stdout",
       "text": [
        "[array([  0.00000000e+00,  -1.00000000e+00,   1.68021665e-09,\n",
        "        -1.00000000e+00,   1.42933357e-09,  -1.00000000e+00,\n",
        "         1.49287016e-09,  -1.00000000e+00,  -1.00000000e+00,\n",
        "        -1.00000000e+00]), array([  0.00000000e+00,  -1.00000000e+00,  -1.00000000e+00,\n",
        "        -1.00000000e+00,   1.42933357e-09,  -1.00000000e+00,\n",
        "         1.49287016e-09,  -1.00000000e+00,  -1.00000000e+00,\n",
        "        -1.00000000e+00]), array([ -1.00000000e+00,   1.34874969e-09,   0.00000000e+00,\n",
        "         1.36347954e-09,  -1.00000000e+00,  -1.00000000e+00,\n",
        "        -1.00000000e+00,  -1.00000000e+00,  -1.00000000e+00,\n",
        "        -1.00000000e+00]), array([  0.00000000e+00,  -1.00000000e+00,   1.68021665e-09,\n",
        "        -1.00000000e+00,  -1.00000000e+00,   1.32673142e-09,\n",
        "        -1.00000000e+00,   1.37570430e-09,  -1.00000000e+00,\n",
        "        -1.00000000e+00])]\n"
       ]
      }
     ],
     "prompt_number": 75
    },
    {
     "cell_type": "code",
     "collapsed": false,
     "input": [
      "t_list = str(times).strip(\"[]\")\n",
      "f = open(\"relative times.txt\", \"w\")\n",
      "f.write(t_list)\n",
      "f.close()\n"
     ],
     "language": "python",
     "metadata": {},
     "outputs": [],
     "prompt_number": 77
    },
    {
     "cell_type": "code",
     "collapsed": false,
     "input": [
      "f = open(\"relative times.txt\", \"r\")\n",
      "f.read(len(times)*1000)"
     ],
     "language": "python",
     "metadata": {},
     "outputs": [
      {
       "output_type": "pyout",
       "prompt_number": 82,
       "text": [
        "'array([  0.00000000e+00,  -1.00000000e+00,   1.68021665e-09,\\n        -1.00000000e+00,   1.42933357e-09,  -1.00000000e+00,\\n         1.49287016e-09,  -1.00000000e+00,  -1.00000000e+00,\\n        -1.00000000e+00]), array([  0.00000000e+00,  -1.00000000e+00,  -1.00000000e+00,\\n        -1.00000000e+00,   1.42933357e-09,  -1.00000000e+00,\\n         1.49287016e-09,  -1.00000000e+00,  -1.00000000e+00,\\n        -1.00000000e+00]), array([ -1.00000000e+00,   1.34874969e-09,   0.00000000e+00,\\n         1.36347954e-09,  -1.00000000e+00,  -1.00000000e+00,\\n        -1.00000000e+00,  -1.00000000e+00,  -1.00000000e+00,\\n        -1.00000000e+00]), array([  0.00000000e+00,  -1.00000000e+00,   1.68021665e-09,\\n        -1.00000000e+00,  -1.00000000e+00,   1.32673142e-09,\\n        -1.00000000e+00,   1.37570430e-09,  -1.00000000e+00,\\n        -1.00000000e+00])'"
       ]
      }
     ],
     "prompt_number": 82
    },
    {
     "cell_type": "code",
     "collapsed": false,
     "input": [],
     "language": "python",
     "metadata": {},
     "outputs": []
    }
   ],
   "metadata": {}
  }
 ]
}