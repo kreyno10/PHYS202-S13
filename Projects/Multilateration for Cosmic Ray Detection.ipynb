{
 "metadata": {
  "name": "Multilateration for Cosmic Ray Detection"
 },
 "nbformat": 3,
 "nbformat_minor": 0,
 "worksheets": [
  {
   "cells": [
    {
     "cell_type": "markdown",
     "metadata": {},
     "source": [
      "Table of Locations\n",
      "-"
     ]
    },
    {
     "cell_type": "markdown",
     "metadata": {},
     "source": [
      "\\begin{tabular}{|1|1|}\n",
      "\\hline\n",
      "\\multicomumn{2}{|c|}{Locations of Detectors} \\\\\n",
      "\\hline\n",
      "Origin (Area 52) & (0,0,0) \\\\\n",
      "Business Silo & (-0.43,-0.05, -0.014) \\\\\n",
      "B38 & (-0.17, +0.11, 0) \\\\\n",
      "Reinhold Aerospace & (-0.49,+0.14, - 0.017) \\\\\n",
      "Rec Center & (+0.15, - 0.27, +0.001) \\\\\n",
      "Farm Shop & (-0.13, +0.35, -0.001) \\\\\n",
      "UU & (+0.11, -0.17, +0.001) \\\\\n",
      "Cerro Hollister & (+0.17, +0.42, +0.0024) \\\\\n",
      "Sierra Madre Tower 1 & (+0.49, - 0.22, +0.024) \\\\\n",
      "\\hline\n",
      "\\end{tabular}"
     ]
    },
    {
     "cell_type": "code",
     "collapsed": false,
     "input": [
      "#locations of detectors in the order they are in the table so the origin \n",
      "#is index [0], etc. Coordinates are with respect to the origin, the new science building. \n",
      "locx = [0, -0.43, -0.17, -0.49, 0.15, -0.13,0.11,0.17,0.49] #x coordinates of the detectors\n",
      "locy = [0, -0.05, 0.115, 0.14, -0.27, 0.35,-0.17, 0.42, -0.22] #y coords of detectors\n",
      "N = 1 #THIS IS SUPER IMPORTANT. IT IS THE NUMBER OF MUON INTERACTIONS. \n",
      "h = 15. #kilometers. height from earth of first collision\n",
      "theta = .0174 #radians. the cone projected onto earth opens with half angle = 1\n",
      "x = zeros(N, float); y = zeros(N, float); angle = zeros(N, float) #random x, y, angle for interactions in top of atmosphere\n",
      "for n in range(N):\n",
      "    x[n] = random.uniform(-0.65, 0.65)\n",
      "    y[n] = random.uniform(-0.65, 0.65)\n",
      "    angle[n] = random.uniform(0, pi/30)\n",
      "H = zeros(N, float); Rcone = zeros(N, float)\n",
      "for n in range(N):\n",
      "    H[n] = h / cos(angle[n]) #distance from first interactions to earth \n",
      "    Rcone[n] = H[n] * sin(theta) # radius of the cone on ground\n",
      "print x, y, angle, H, Rcone"
     ],
     "language": "python",
     "metadata": {},
     "outputs": [
      {
       "output_type": "stream",
       "stream": "stdout",
       "text": [
        "[ 0.51390118] [-0.54000157] [ 0.07612155] [ 15.04356385] [ 0.2617448]\n"
       ]
      }
     ],
     "prompt_number": 2
    },
    {
     "cell_type": "code",
     "collapsed": false,
     "input": [
      "D = zeros(N, float)\n",
      "for n in range(N):\n",
      "    D[n] = h*sin(angle[n])#distance from center of projected cone to origin (new Science building)\n",
      "\n",
      "count = 0 #number of detectors hit\n",
      " \n",
      "for n in range(1):\n",
      "    for i in range(0,9):\n",
      "        if locx[i] > x[n]+D[n]-Rcone[n] and locx[i] < x[n]+D[n]+Rcone[n] and locy[i] > y[n]+D[n]-Rcone[n] and locy[i] < y[n]+D[n]+Rcone[n]:\n",
      "            count += 1\n",
      "\n",
      "            \n",
      "print \"number of muons detected =\", count\n",
      "    \n"
     ],
     "language": "python",
     "metadata": {},
     "outputs": [
      {
       "output_type": "stream",
       "stream": "stdout",
       "text": [
        "number of muons detected = 0\n"
       ]
      }
     ],
     "prompt_number": 3
    },
    {
     "cell_type": "code",
     "collapsed": false,
     "input": [
      "if count > 3: #the interaction counts, continue\n",
      "    nrg = []\n",
      "    c = 3.*10**8 #speed of light\n",
      "    m = .1057 #mass of single muon in GeV/c^2\n",
      "    for n in range(N):\n",
      "        nrg.append(random.normal(4,1.5)) #gaussian distribution of energy, mean = 4 GeV/c^2, sigma = 1.5 Gev/c^2\n",
      "    print nrg[4]\n",
      "    velo = []\n",
      "    for n in range(N):\n",
      "        v = (sqrt(1 - (m/(nrg[n]))**2))*c #relativistic velocity of muon \n",
      "        velo.append(v)\n",
      "    print velo[4]\n",
      "    t = [] \n",
      "    for n in range(N):\n",
      "        t.append(H[n]/velo[n]) #time an earth observer would see it take a muon to travel to the detector\n",
      "        \n",
      "    t0 = min(t) #arrival time of first muon\n",
      "    t0_index = t.index(t0) #index of the first muon to arrive\n",
      "    delta = random.uniform(0,0.05)#deviation of time\n",
      "    t_rel = [] #array of arrival times for all other muons relative to t0\n",
      "    for n in range(N):\n",
      "        t[n] -= t0 -+ delta\n",
      "        t_rel.append(t[n] + delta - t[t0_index])\n",
      "    #print t_rel\n",
      "    t_list = str(t_rel).strip(\"[]\")\n",
      "    f = open(\"relative times.txt\", \"w\")\n",
      "    f.write(t_list)\n",
      "    f.close()"
     ],
     "language": "python",
     "metadata": {},
     "outputs": [],
     "prompt_number": 12
    },
    {
     "cell_type": "code",
     "collapsed": false,
     "input": [
      "f = open(\"relative times.txt\", \"r\")\n",
      "f.read(len(t_rel)*N)"
     ],
     "language": "python",
     "metadata": {},
     "outputs": [
      {
       "ename": "NameError",
       "evalue": "name 't_rel' is not defined",
       "output_type": "pyerr",
       "traceback": [
        "\u001b[1;31m---------------------------------------------------------------------------\u001b[0m\n\u001b[1;31mNameError\u001b[0m                                 Traceback (most recent call last)",
        "\u001b[1;32m<ipython-input-13-9d8b49abab84>\u001b[0m in \u001b[0;36m<module>\u001b[1;34m()\u001b[0m\n\u001b[0;32m      1\u001b[0m \u001b[0mf\u001b[0m \u001b[1;33m=\u001b[0m \u001b[0mopen\u001b[0m\u001b[1;33m(\u001b[0m\u001b[1;34m\"relative times.txt\"\u001b[0m\u001b[1;33m,\u001b[0m \u001b[1;34m\"r\"\u001b[0m\u001b[1;33m)\u001b[0m\u001b[1;33m\u001b[0m\u001b[0m\n\u001b[1;32m----> 2\u001b[1;33m \u001b[0mf\u001b[0m\u001b[1;33m.\u001b[0m\u001b[0mread\u001b[0m\u001b[1;33m(\u001b[0m\u001b[0mlen\u001b[0m\u001b[1;33m(\u001b[0m\u001b[0mt_rel\u001b[0m\u001b[1;33m)\u001b[0m\u001b[1;33m*\u001b[0m\u001b[0mN\u001b[0m\u001b[1;33m)\u001b[0m\u001b[1;33m\u001b[0m\u001b[0m\n\u001b[0m",
        "\u001b[1;31mNameError\u001b[0m: name 't_rel' is not defined"
       ]
      }
     ],
     "prompt_number": 13
    },
    {
     "cell_type": "code",
     "collapsed": false,
     "input": [
      "#x = [(0)]\n",
      "#y = [(0)]\n",
      "#angle = [(0)]\n",
      "#H = zeros(1, float); Rcone = zeros(1, float)\n",
      "#for n in range(1):\n",
      "    #H[n] = h / cos(angle[n]) #distance from first interactions to earth \n",
      "    #Rcone[n] = H[n] * sin(theta) # radius of the cone on ground\n",
      "#print x, y, angle, H, Rcone\n",
      "\n",
      "#locations of detectors in the order they are in the table so the origin \n",
      "#is index [0], etc. Coordinates are with respect to the origin, the new science building. \n",
      "locx = [0, -0.43, -0.17, -0.49, 0.15, -0.13,0.11,0.17,0.49] #x coordinates of the detectors\n",
      "locy = [0, -0.05, 0.115, 0.14, -0.27, 0.35,-0.17, 0.42, -0.22] #y coords of detectors\n",
      "N = 40 #THIS IS SUPER IMPORTANT. IT IS THE NUMBER OF MUON INTERACTIONS. \n",
      "h = 15. #kilometers. height from earth of first collision\n",
      "theta = .0174 #radians. the cone projected onto earth opens with half angle = 1\n",
      "x = zeros(N, float); y = zeros(N, float); angle = zeros(N, float) #random x, y, angle for interactions in top of atmosphere\n",
      "for n in range(N):\n",
      "    x[n] = random.uniform(-0.65, 0.65)\n",
      "    y[n] = random.uniform(-0.65, 0.65)\n",
      "    angle[n] = random.uniform(0, pi/30)\n",
      "H = zeros(N, float); Rcone = zeros(N, float)\n",
      "for n in range(N):\n",
      "    H[n] = h / cos(angle[n]) #distance from first interactions to earth \n",
      "    Rcone[n] = H[n] * sin(theta) # radius of the cone on ground\n",
      "print x, y, angle, H, Rcone"
     ],
     "language": "python",
     "metadata": {},
     "outputs": [
      {
       "output_type": "stream",
       "stream": "stdout",
       "text": [
        "[ 0.35040168 -0.59119946 -0.57481995 -0.04100089  0.1147981  -0.59521197\n",
        "  0.50818269 -0.15519905 -0.19346731 -0.21245288  0.17862298  0.13963568\n",
        " -0.37935187  0.09650386  0.58250259  0.2113864  -0.32757333  0.20045387\n",
        " -0.57385718 -0.1485892   0.25676949  0.3980585  -0.27874897  0.53372736\n",
        "  0.34937031  0.0999795  -0.2898049  -0.63699853  0.27949668  0.08075932\n",
        "  0.33316434 -0.25678938  0.28782717  0.30136773 -0.03890136  0.60123721\n",
        " -0.50044779 -0.14252439  0.36685646  0.56916745] [-0.40984133  0.19460521 -0.06164804  0.11485555 -0.28352195 -0.15000704\n",
        " -0.27772412  0.52394244 -0.49670951  0.21257058  0.17803932 -0.0858388\n",
        " -0.03424174  0.47463392  0.34194913 -0.16366877 -0.52897967 -0.07648219\n",
        " -0.35433296  0.4298812  -0.10599733 -0.28795827 -0.06808971  0.5591878\n",
        " -0.19575701 -0.63634998  0.26868707  0.08776901 -0.01745576 -0.24875008\n",
        "  0.12605723 -0.36368758  0.29788234  0.62176215  0.35328448 -0.02154385\n",
        " -0.64013059  0.46762271 -0.10830354 -0.27009166] [ 0.09332669  0.07015891  0.03240032  0.02589655  0.03019758  0.06964447\n",
        "  0.06848083  0.0020937   0.06233781  0.09321722  0.02004961  0.04585877\n",
        "  0.00745756  0.04523917  0.09648088  0.05190956  0.0718161   0.09595367\n",
        "  0.09133242  0.02638008  0.05715433  0.06251955  0.05624842  0.01482967\n",
        "  0.04067662  0.06878818  0.10455526  0.1024826   0.00887117  0.0852286\n",
        "  0.01602238  0.02041608  0.01936535  0.01644908  0.03192706  0.06751322\n",
        "  0.10083166  0.07405735  0.07658599  0.04809498] [ 15.06556195  15.03699291  15.0078768   15.00503114  15.0068418\n",
        "  15.0364513   15.03524104  15.00003288  15.02919228  15.06540767\n",
        "  15.00301541  15.01578653  15.00041712  15.01536247  15.07008601\n",
        "  15.02023223  15.03876494  15.0693192   15.06278027  15.00522083\n",
        "  15.02453302  15.02936302  15.02376046  15.00164954  15.01241797\n",
        "  15.03555871  15.08236364  15.07911631  15.00059025  15.05464474\n",
        "  15.00192558  15.00312667  15.00281307  15.00202952  15.00764828\n",
        "  15.0342503   15.07657704  15.04122789  15.04409837  15.01736519] [ 0.26212755  0.26163047  0.26112388  0.26107437  0.26110587  0.26162105\n",
        "  0.26159999  0.2609874   0.26149475  0.26212487  0.2610393   0.2612615\n",
        "  0.26099409  0.26125412  0.26220627  0.26133885  0.26166131  0.26219292\n",
        "  0.26207915  0.26107767  0.26141368  0.26149772  0.26140024  0.26101553\n",
        "  0.26120289  0.26160552  0.26241989  0.26236338  0.2609971   0.2619376\n",
        "  0.26102033  0.26104123  0.26103578  0.26102214  0.2611199   0.26158276\n",
        "  0.2623192   0.26170416  0.2617541   0.26128897]\n"
       ]
      }
     ],
     "prompt_number": 33
    },
    {
     "cell_type": "code",
     "collapsed": false,
     "input": [
      "D = zeros(N, float)\n",
      "for n in range(N):\n",
      "    D[n] = h*sin(angle[n])#distance from center of projected cone to origin (new Science building)\n",
      "\n",
      "count = 0 #number of detectors hit\n",
      "dethit = []\n",
      "num_collisions = []\n",
      "for n in range(N):\n",
      "    for i in range(0,9):\n",
      "        if locx[i] > x[n]+D[n]-Rcone[n] and locx[i] < x[n]+D[n]+Rcone[n] and locy[i] > y[n]+D[n]-Rcone[n] and locy[i] < y[n]+D[n]+Rcone[n]:\n",
      "            count += 1\n",
      "            dethit.append(i)\n",
      "            if len(dethit) > 3:\n",
      "                num_collisions.append(dethit)\n",
      "print \"number of muons detected =\", count, \"detectors hit are: \", num_collisions"
     ],
     "language": "python",
     "metadata": {},
     "outputs": [
      {
       "output_type": "stream",
       "stream": "stdout",
       "text": [
        "number of muons detected = 11 detectors hit are:  [[5, 7, 7, 5, 1, 2, 3, 0, 2, 4, 6], [5, 7, 7, 5, 1, 2, 3, 0, 2, 4, 6], [5, 7, 7, 5, 1, 2, 3, 0, 2, 4, 6], [5, 7, 7, 5, 1, 2, 3, 0, 2, 4, 6], [5, 7, 7, 5, 1, 2, 3, 0, 2, 4, 6], [5, 7, 7, 5, 1, 2, 3, 0, 2, 4, 6], [5, 7, 7, 5, 1, 2, 3, 0, 2, 4, 6], [5, 7, 7, 5, 1, 2, 3, 0, 2, 4, 6]]\n"
       ]
      }
     ],
     "prompt_number": 34
    },
    {
     "cell_type": "code",
     "collapsed": false,
     "input": [
      "Dist = []\n",
      "for i in dethit:\n",
      "    Dist.append(sqrt(locx[i]**2 + locy[i]**2))\n",
      "print Dist\n",
      "small = Dist.index(min(Dist))\n",
      "large = Dist.index(max(Dist))\n",
      "print small, large\n",
      "firsthit = dethit[small]\n",
      "lasthit = dethit[large]\n",
      "print \"first hit=\",\"detector\",firsthit, \"last hit=\",\"detector\",lasthit\n"
     ],
     "language": "python",
     "metadata": {},
     "outputs": [
      {
       "output_type": "stream",
       "stream": "stdout",
       "text": [
        "[0.37336309405188939, 0.45310043036836767, 0.45310043036836767, 0.37336309405188939, 0.43289721643826723, 0.20524375751773793, 0.50960769224963631, 0.0, 0.20524375751773793, 0.30886890422961005, 0.20248456731316589]\n",
        "7 6\n",
        "first hit= detector 0 last hit= detector 3\n"
       ]
      }
     ],
     "prompt_number": 35
    },
    {
     "cell_type": "code",
     "collapsed": false,
     "input": [
      "N = 40\n",
      "nrg = zeros(N, float)\n",
      "c = 3.*10**8 #speed of light\n",
      "m = .1057 #mass of single muon in GeV/c^2\n",
      "for n in range(N):\n",
      "    nrg[n] = random.normal(4,1.5) #gaussian distribution of energy, mean = 4 GeV/c^2, sigma = 1.5 Gev/c^2\n",
      "print nrg\n",
      "velo = zeros(N, float)\n",
      "for n in range(N):\n",
      "    v = (sqrt(1 - (m/(nrg[n]))**2))*c #relativistic velocity of muon \n",
      "    velo[n] = v\n",
      "print velo\n",
      "time = zeros(N, float) \n",
      "for n in range(N-1):\n",
      "    t = H[n]/velo[n]\n",
      "    time[n] = t  #time an earth observer would see it take a muon to travel to the detector\n",
      "print time   \n",
      "\n",
      "t0 = min(time) #arrival time of first muon\n",
      "delta = random.uniform(0,0.05)#deviation of time\n",
      "\n",
      "dettime = ones(8, float)*(-1) #array of arrival times for all other muons relative to t0\n",
      "for i in dethit:\n",
      "    if i == firsthit:\n",
      "        dettime[i] = 0\n",
      "    if i == lasthit:\n",
      "        dettime[i] = max(time) - (t0 + delta*max(time))\n",
      "    else:\n",
      "        dettime[i] = time[i] - (t0 + delta*time[i])\n",
      "print dettime"
     ],
     "language": "python",
     "metadata": {},
     "outputs": [
      {
       "output_type": "stream",
       "stream": "stdout",
       "text": [
        "[ 4.37104101  6.04176577  4.54854303  2.492467    1.8378511   3.99759595\n",
        "  4.54502779  4.51824179  3.95089739  4.8179745   4.29459532  3.48155174\n",
        "  3.24528533  2.35143452  4.85981432  2.11776491  5.60596801  5.53729352\n",
        "  3.56695259  2.26988492  4.62629225  4.94429765  3.84175148  6.06582488\n",
        "  5.72499865  5.68086377  5.16246411  3.45867747  3.87785963  2.50861386\n",
        "  7.05269866  4.8092908   5.12922765  4.58817555  2.71499077  1.27422166\n",
        "  2.62776598  3.64120781  3.81546784  3.84477995]\n",
        "[  2.99912273e+08   2.99954086e+08   2.99918987e+08   2.99730116e+08\n",
        "   2.99503430e+08   2.99895114e+08   2.99918862e+08   2.99917896e+08\n",
        "   2.99892619e+08   2.99927795e+08   2.99909121e+08   2.99861708e+08\n",
        "   2.99840834e+08   2.99696754e+08   2.99929034e+08   2.99626099e+08\n",
        "   2.99946669e+08   2.99945338e+08   2.99868253e+08   2.99674561e+08\n",
        "   2.99921687e+08   2.99931438e+08   2.99886430e+08   2.99954449e+08\n",
        "   2.99948864e+08   2.99948066e+08   2.99937111e+08   2.99859873e+08\n",
        "   2.99888535e+08   2.99733580e+08   2.99966306e+08   2.99927534e+08\n",
        "   2.99936294e+08   2.99920381e+08   2.99772559e+08   2.98966048e+08\n",
        "   2.99757203e+08   2.99873572e+08   2.99884859e+08   2.99886609e+08]\n",
        "[  5.02332292e-08   5.01309821e-08   5.00397689e-08   5.00618068e-08\n",
        "   5.01057426e-08   5.01390340e-08   5.01310286e-08   5.00137973e-08\n",
        "   5.01152457e-08   5.02301150e-08   5.00252055e-08   5.00757053e-08\n",
        "   5.00279329e-08   5.01018522e-08   5.02455059e-08   5.01299195e-08\n",
        "   5.01381295e-08   5.02402181e-08   5.02313271e-08   5.00717203e-08\n",
        "   5.00948536e-08   5.01093287e-08   5.00981671e-08   5.00130922e-08\n",
        "   5.00499244e-08   5.01272067e-08   5.02850867e-08   5.02872097e-08\n",
        "   5.00205526e-08   5.02267538e-08   5.00120357e-08   5.00225052e-08\n",
        "   5.00199989e-08   5.00200403e-08   5.00634492e-08   5.02874838e-08\n",
        "   5.02959625e-08   5.01585644e-08   5.01662485e-08   0.00000000e+00]\n",
        "[  4.96494221e-08   4.95483633e-08   4.94582102e-08   4.97114263e-08\n",
        "   4.95234172e-08   4.95563216e-08   4.95484093e-08   4.94325404e-08]\n"
       ]
      }
     ],
     "prompt_number": 38
    },
    {
     "cell_type": "code",
     "collapsed": false,
     "input": [
      "\n"
     ],
     "language": "python",
     "metadata": {},
     "outputs": [],
     "prompt_number": 10
    },
    {
     "cell_type": "code",
     "collapsed": false,
     "input": [],
     "language": "python",
     "metadata": {},
     "outputs": []
    }
   ],
   "metadata": {}
  }
 ]
}