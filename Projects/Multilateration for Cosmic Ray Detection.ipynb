{
 "metadata": {
  "name": "Multilateration for Cosmic Ray Detection"
 },
 "nbformat": 3,
 "nbformat_minor": 0,
 "worksheets": [
  {
   "cells": [
    {
     "cell_type": "markdown",
     "metadata": {},
     "source": [
      "Table of Locations\n",
      "-"
     ]
    },
    {
     "cell_type": "markdown",
     "metadata": {},
     "source": [
      "\\begin{tabular}{|1|1|}\n",
      "\\hline\n",
      "\\multicomumn{2}{|c|}{Locations of Detectors} \\\\\n",
      "\\hline\n",
      "Origin (Area 52) & (0,0,0) \\\\\n",
      "Business Silo & (-0.43,-0.05, -0.014) \\\\\n",
      "B38 & (-0.17, +0.11, 0) \\\\\n",
      "Reinhold Aerospace & (-0.49,+0.14, - 0.017) \\\\\n",
      "Rec Center & (+0.15, - 0.27, +0.001) \\\\\n",
      "Farm Shop & (-0.13, +0.35, -0.001) \\\\\n",
      "UU & (+0.11, -0.17, +0.001) \\\\\n",
      "Cerro Hollister & (+0.17, +0.42, +0.0024) \\\\\n",
      "Sierra Madre Tower 1 & (+0.49, - 0.22, +0.024) \\\\\n",
      "\\hline\n",
      "\\end{tabular}"
     ]
    },
    {
     "cell_type": "code",
     "collapsed": false,
     "input": [
      "#locations of detectors in the order they are in the table so the origin \n",
      "#is index [0], etc. Coordinates are with respect to the origin, the new science building. \n",
      "locx = [0, -0.43, -0.17, -0.49, 0.15, -0.13,0.11,0.17,0.49] #x coordinates of the detectors\n",
      "locy = [0, -0.05, 0.11, 0.14, -0.27, 0.35,-0.17, 0.42, -0.22] #y coords of detectors\n",
      "N = 100 #THIS IS SUPER IMPORTANT. IT IS THE NUMBER OF MUON INTERACTIONS. \n",
      "h = 15. #kilometers. height from earth of first collision\n",
      "theta = .0174 #radians. the cone projected onto earth opens with half angle = 1\n",
      "x = zeros(N, float); y = zeros(N, float); angle = zeros(N, float) #random x, y, angle for interactions in top of atmosphere\n",
      "for n in range(N):\n",
      "    x[n] = random.uniform(-0.65, 0.65)\n",
      "    y[n] = random.uniform(-0.65, 0.65)\n",
      "    angle[n] = random.uniform(0, pi/30)\n",
      "H = zeros(N, float); Rcone = zeros(N, float)\n",
      "for n in range(N):\n",
      "    H[n] = h / cos(angle[n]) #distance from first interactions to earth \n",
      "    Rcone[n] = H[n] * sin(theta) # radius of the cone on ground"
     ],
     "language": "python",
     "metadata": {},
     "outputs": [],
     "prompt_number": 15
    },
    {
     "cell_type": "code",
     "collapsed": false,
     "input": [
      "D = zeros(N, float)\n",
      "for n in range(N):\n",
      "    D[n] = h*sin(angle[n])#distance from center of projected cone to origin (new Science building)\n",
      "\n",
      "count = 0 #number of detectors hit\n",
      " \n",
      "for n in range(N):\n",
      "    for i in range(0,9):\n",
      "        if locx[i] > x[n]+D[n]-Rcone[n] and locx[i] < x[n]+D[n]+Rcone[n] and locy[i] > y[n]+D[n]-Rcone[n] and locy[i] < y[n]+D[n]+Rcone[n]:\n",
      "            count += 1\n",
      "\n",
      "            \n",
      "print \"number of muons detected =\", count\n",
      "    \n"
     ],
     "language": "python",
     "metadata": {},
     "outputs": [
      {
       "output_type": "stream",
       "stream": "stdout",
       "text": [
        "number of muons detected = 42\n"
       ]
      }
     ],
     "prompt_number": 18
    },
    {
     "cell_type": "code",
     "collapsed": false,
     "input": [
      "if count > 3: #the interaction counts, continue\n",
      "    nrg = []\n",
      "    c = 3.*10**8 #speed of light\n",
      "    m = .1057 #mass of single muon in GeV/c^2\n",
      "    for n in range(N):\n",
      "        nrg.append(random.normal(4*c**2,1.5*c**2)) #gaussian distribution of energy, mean = 4 GeV/c^2, sigma = 1.5 Gev/c^2\n",
      "\n",
      "    velo = []\n",
      "    for n in range(N):\n",
      "        v = (sqrt(1 - (m/(nrg[n]))**2)) #relativistic velocity of muon \n",
      "        velo.append(v)\n",
      "    #print velo\n",
      "    t_earth = [] \n",
      "    for n in range(N):\n",
      "        t_earth.append(H[n]/velo[n]) #time an earth observer would see it take a muon to travel to the detector\n",
      "        \n",
      "    t0 = min(t_earth) #arrival time of first muon\n",
      "    t0_index = t_earth.index(t0) #index of the first muon to arrive\n",
      "    delta = random.uniform(0,0.05)#deviation of time\n",
      "    t_rel = [] #array of arrival times for all other muons relative to t0\n",
      "    for n in range(N):\n",
      "        t_earth[n] -= t0 -+ delta\n",
      "        t_rel.append(t_earth[n] + delta - t_earth[t0_index])\n",
      "    #print t_rel\n",
      "    t_list = str(t_rel).strip(\"[]\")\n",
      "    f = open(\"relative times.txt\", \"w\")\n",
      "    f.write(t_list)\n",
      "    f.close()"
     ],
     "language": "python",
     "metadata": {},
     "outputs": [
      {
       "output_type": "stream",
       "stream": "stdout",
       "text": [
        "[15.055683625672163, 15.042482426339308, 15.035814397104323, 15.070196418334046, 15.043661972969367, 15.025158188103529, 15.039128264073277, 15.041856310782528, 15.030365895152169, 15.076618520040762, 15.011579267524562, 15.020166469524421, 15.003153840831054, 15.000052383096868, 15.04874127462741, 15.067879756485539, 15.026250229685061, 15.008901975680105, 15.030016824488126, 15.077376201576849, 15.028454545954327, 15.034450753620948, 15.000153934581665, 15.07089434806497, 15.001863752084557, 15.012172310771511, 15.002569103270766, 15.00635051527204, 15.03787721894979, 15.000539733576185, 15.012071486593335, 15.037769202746304, 15.001219805834204, 15.000150442388785, 15.056122566842259, 15.011937049376955, 15.033209813506435, 15.075084621071722, 15.005321240009076, 15.070967530333029, 15.002569416052774, 15.020365922181675, 15.0312818624647, 15.033012465130531, 15.000836133628702, 15.039380289530444, 15.015390339400744, 15.025706370228848, 15.012002883797006, 15.004837667752634, 15.007324273641217, 15.028370228162169, 15.002465288661426, 15.011073377557913, 15.033914231329998, 15.056374912398033, 15.005871399390982, 15.054348331252337, 15.081250454951549, 15.000205654124333, 15.000157397929936, 15.057050300480588, 15.002475456712252, 15.001218554321293, 15.029764522094185, 15.010211691606585, 15.053046432997537, 15.003981120143422, 15.044860154180151, 15.062773414437919, 15.025264551251707, 15.027456833721342, 15.005371026908893, 15.056138552305471, 15.051557635349793, 15.032294385625642, 15.01593157917152, 15.002627815519689, 15.043859537227419, 15.002128745898451, 15.063092547685228, 15.005571986754676, 15.000446275593523, 15.052391454900983, 15.003610217539075, 15.049564958799712, 15.049025138897317, 15.022138561931563, 15.070937185560579, 15.003538427810375, 15.013780178659156, 15.012258881707119, 15.002634789493804, 15.004721970801381, 15.000487410191793, 15.001089391142346, 15.005325269739076, 15.024803294324837, 15.033631462942859, 15.007490664504198]\n",
        "15.0000523831\n"
       ]
      }
     ],
     "prompt_number": 24
    },
    {
     "cell_type": "code",
     "collapsed": false,
     "input": [
      "f = open(\"relative times.txt\", \"r\")\n",
      "f.read(len(t_rel)*N)"
     ],
     "language": "python",
     "metadata": {},
     "outputs": [
      {
       "output_type": "pyout",
       "prompt_number": 20,
       "text": [
        "'-14.863692651639045, -14.8768938509719, -14.883561880206885, -14.849179858977163, -14.875714304341841, -14.89421808920768, -14.880248013237932, -14.877519966528681, -14.889010382159039, -14.842757757270446, -14.907797009786647, -14.899209807786788, -14.916222436480155, 0.040364244441264366, 0.089053135971806474, 0.10819161782993486, 0.066562091029457496, 0.049213837024501619, 0.07032868583252179, 0.11768806292124484, 0.068766407298723256, 0.074762614965344601, 0.040465795926060769, 0.11120620940936593, 0.042175613428952777, 0.05248417211590746, 0.042880964615161735, 0.046662376616435755, 0.078189080294185989, 0.040851594920580728, 0.05238334793773132, 0.078081064090700328, 0.041531667178599865, 0.040462303733181007, 0.096434428186654875, 0.052248910721351696, 0.073521674850831123, 0.11539648241611861, 0.045633101353472275, 0.11127939167742479, 0.042881277397170028, 0.060677783526071186, 0.071593723809096635, 0.073324326474926996, 0.041147994973098581, 0.079692150874839787, 0.055702200745140165, 0.066018231573244227, 0.052314745141402288, 0.045149529097030031, 0.047636134985613102, 0.068682089506565139, 0.042777150005822454, 0.051385238902309685, 0.074226092674394242, 0.096686773742428789, 0.046183260735377776, 0.094660192596732917, 0.12156231629594533, 0.040517515468728907, 0.040469259274332051, 0.097362161824984417, 0.042787318056648663, 0.041530415665688783, 0.070076383438581094, 0.050523552950981501, 0.093358294341932824, 0.044292981487818087, 0.085172015524547395, 0.1030852757823148, 0.065576412596103542, 0.067768695065737863, 0.045682888253289325, 0.096450413649867561, 0.091869496694189257, 0.072606246970038105, 0.056243440515915968, 0.042939676864085688, 0.084171398571815506, 0.042440607242847553, 0.10340440902962417, 0.045883848099072158, 0.040758136937919479, 0.092703316245378919, 0.043922078883471063, 0.089876820144107972, 0.08933700024171326, 0.062450423275958802, 0.11124904690497533, 0.043850289154770697, 0.054092040003551792, 0.05257074305151517, 0.042946650838200331, 0.045033832145776789, 0.040799271536189299, 0.041401252486741716, 0.045637131083472629, 0.065115155669233052, 0.073943324287255099, 0.047802525848594304'"
       ]
      }
     ],
     "prompt_number": 20
    },
    {
     "cell_type": "code",
     "collapsed": false,
     "input": [],
     "language": "python",
     "metadata": {},
     "outputs": []
    }
   ],
   "metadata": {}
  }
 ]
}