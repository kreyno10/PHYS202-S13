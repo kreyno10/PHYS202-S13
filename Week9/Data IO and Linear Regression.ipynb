{
 "metadata": {
  "name": "Data IO and Linear Regression"
 },
 "nbformat": 3,
 "nbformat_minor": 0,
 "worksheets": [
  {
   "cells": [
    {
     "cell_type": "markdown",
     "metadata": {},
     "source": [
      "Example\n",
      "-"
     ]
    },
    {
     "cell_type": "code",
     "collapsed": false,
     "input": [
      "DataIn = loadtxt('input.dat')\n",
      "print DataIn.shape\n",
      "print DataIn"
     ],
     "language": "python",
     "metadata": {},
     "outputs": [
      {
       "output_type": "stream",
       "stream": "stdout",
       "text": [
        "(5, 3)\n",
        "[[ 0.   1.1  0.1]\n",
        " [ 2.   1.9  0.2]\n",
        " [ 4.   3.2  0.1]\n",
        " [ 6.   4.   0.3]\n",
        " [ 8.   5.9  0.3]]\n"
       ]
      }
     ],
     "prompt_number": 1
    },
    {
     "cell_type": "code",
     "collapsed": false,
     "input": [
      "print DataIn[:,2] #slicing array"
     ],
     "language": "python",
     "metadata": {},
     "outputs": [
      {
       "output_type": "stream",
       "stream": "stdout",
       "text": [
        "[ 0.1  0.2  0.1  0.3  0.3]\n"
       ]
      }
     ],
     "prompt_number": 2
    },
    {
     "cell_type": "code",
     "collapsed": false,
     "input": [
      "x, y, yerr = loadtxt('input.dat', unpack=True) #want each variable in own 1D array\n",
      "print x \n",
      "print y \n",
      "print yerr"
     ],
     "language": "python",
     "metadata": {},
     "outputs": [
      {
       "output_type": "stream",
       "stream": "stdout",
       "text": [
        "[ 0.  2.  4.  6.  8.]\n",
        "[ 1.1  1.9  3.2  4.   5.9]\n",
        "[ 0.1  0.2  0.1  0.3  0.3]\n"
       ]
      }
     ],
     "prompt_number": 3
    },
    {
     "cell_type": "code",
     "collapsed": false,
     "input": [
      "x, y = loadtxt('input.dat', unpack=True, usecols=[0,1]) #want tp read in only some columns\n",
      "print x\n",
      "print y"
     ],
     "language": "python",
     "metadata": {},
     "outputs": [
      {
       "output_type": "stream",
       "stream": "stdout",
       "text": [
        "[ 0.  2.  4.  6.  8.]\n",
        "[ 1.1  1.9  3.2  4.   5.9]\n"
       ]
      }
     ],
     "prompt_number": 4
    },
    {
     "cell_type": "code",
     "collapsed": false,
     "input": [
      "x, y = loadtxt('input.csv', unpack=True, delimiter=',', usecols=[0,1])\n",
      "#csv is a file where data is seperated by commas \"comma-seperated-values\"\n",
      "#delimiter is passed to deal with this form of data\n",
      "print x,y"
     ],
     "language": "python",
     "metadata": {},
     "outputs": [
      {
       "output_type": "stream",
       "stream": "stdout",
       "text": [
        "[ 0.  2.  4.  6.  8.] [ 1.1  1.9  3.2  4.   5.9]\n"
       ]
      }
     ],
     "prompt_number": 5
    },
    {
     "cell_type": "code",
     "collapsed": false,
     "input": [
      "x, y = loadtxt('input.csv', unpack=True, usecols=[0,1])\n",
      "#error without the delimiter call "
     ],
     "language": "python",
     "metadata": {},
     "outputs": [
      {
       "ename": "ValueError",
       "evalue": "invalid literal for float(): 0.0,",
       "output_type": "pyerr",
       "traceback": [
        "\u001b[1;31m---------------------------------------------------------------------------\u001b[0m\n\u001b[1;31mValueError\u001b[0m                                Traceback (most recent call last)",
        "\u001b[1;32m<ipython-input-6-fe7d3bc0bcbb>\u001b[0m in \u001b[0;36m<module>\u001b[1;34m()\u001b[0m\n\u001b[1;32m----> 1\u001b[1;33m \u001b[0mx\u001b[0m\u001b[1;33m,\u001b[0m \u001b[0my\u001b[0m \u001b[1;33m=\u001b[0m \u001b[0mloadtxt\u001b[0m\u001b[1;33m(\u001b[0m\u001b[1;34m'input.csv'\u001b[0m\u001b[1;33m,\u001b[0m \u001b[0munpack\u001b[0m\u001b[1;33m=\u001b[0m\u001b[0mTrue\u001b[0m\u001b[1;33m,\u001b[0m \u001b[0musecols\u001b[0m\u001b[1;33m=\u001b[0m\u001b[1;33m[\u001b[0m\u001b[1;36m0\u001b[0m\u001b[1;33m,\u001b[0m\u001b[1;36m1\u001b[0m\u001b[1;33m]\u001b[0m\u001b[1;33m)\u001b[0m\u001b[1;33m\u001b[0m\u001b[0m\n\u001b[0m\u001b[0;32m      2\u001b[0m \u001b[1;31m#error without the delimiter call\u001b[0m\u001b[1;33m\u001b[0m\u001b[1;33m\u001b[0m\u001b[0m\n",
        "\u001b[1;32m/usr/lib/pymodules/python2.7/numpy/lib/npyio.pyc\u001b[0m in \u001b[0;36mloadtxt\u001b[1;34m(fname, dtype, comments, delimiter, converters, skiprows, usecols, unpack)\u001b[0m\n\u001b[0;32m    711\u001b[0m \u001b[1;33m\u001b[0m\u001b[0m\n\u001b[0;32m    712\u001b[0m             \u001b[1;31m# Convert each value according to its column and store\u001b[0m\u001b[1;33m\u001b[0m\u001b[1;33m\u001b[0m\u001b[0m\n\u001b[1;32m--> 713\u001b[1;33m             \u001b[0mX\u001b[0m\u001b[1;33m.\u001b[0m\u001b[0mappend\u001b[0m\u001b[1;33m(\u001b[0m\u001b[0mtuple\u001b[0m\u001b[1;33m(\u001b[0m\u001b[1;33m[\u001b[0m\u001b[0mconv\u001b[0m\u001b[1;33m(\u001b[0m\u001b[0mval\u001b[0m\u001b[1;33m)\u001b[0m \u001b[1;32mfor\u001b[0m \u001b[1;33m(\u001b[0m\u001b[0mconv\u001b[0m\u001b[1;33m,\u001b[0m \u001b[0mval\u001b[0m\u001b[1;33m)\u001b[0m \u001b[1;32min\u001b[0m \u001b[0mzip\u001b[0m\u001b[1;33m(\u001b[0m\u001b[0mconverters\u001b[0m\u001b[1;33m,\u001b[0m \u001b[0mvals\u001b[0m\u001b[1;33m)\u001b[0m\u001b[1;33m]\u001b[0m\u001b[1;33m)\u001b[0m\u001b[1;33m)\u001b[0m\u001b[1;33m\u001b[0m\u001b[0m\n\u001b[0m\u001b[0;32m    714\u001b[0m     \u001b[1;32mfinally\u001b[0m\u001b[1;33m:\u001b[0m\u001b[1;33m\u001b[0m\u001b[0m\n\u001b[0;32m    715\u001b[0m         \u001b[1;32mif\u001b[0m \u001b[0mown_fh\u001b[0m\u001b[1;33m:\u001b[0m\u001b[1;33m\u001b[0m\u001b[0m\n",
        "\u001b[1;31mValueError\u001b[0m: invalid literal for float(): 0.0,"
       ]
      }
     ],
     "prompt_number": 6
    },
    {
     "cell_type": "code",
     "collapsed": false,
     "input": [
      "t = array([0,1,2,3,4,5,6,7,8,9])\n",
      "v = array([0.137,0.456,0.591,0.713,0.859,0.926,1.139,1.327,1.512,1.875])\n",
      "p = zeros(len(v), float)\n",
      "for n in range(10):\n",
      "    p[n] = 0.15 + v[n]/10.0\n",
      "print p "
     ],
     "language": "python",
     "metadata": {},
     "outputs": [
      {
       "output_type": "stream",
       "stream": "stdout",
       "text": [
        "[ 0.1637  0.1956  0.2091  0.2213  0.2359  0.2426  0.2639  0.2827  0.3012\n",
        "  0.3375]\n"
       ]
      }
     ],
     "prompt_number": 7
    },
    {
     "cell_type": "code",
     "collapsed": false,
     "input": [
      "savetxt('output.dat', (t,p)) \n",
      "#this call will save t and p arrays to the same directory as this python notebook\n",
      "#but each array will appear in a different row"
     ],
     "language": "python",
     "metadata": {},
     "outputs": [],
     "prompt_number": 8
    },
    {
     "cell_type": "code",
     "collapsed": false,
     "input": [
      "DataOut = column_stack((t,p))\n",
      "#this puts each array into a different column\n",
      "savetxt('output.dat', DataOut)\n",
      "#by default the numbers will be in scientific notation"
     ],
     "language": "python",
     "metadata": {},
     "outputs": [],
     "prompt_number": 9
    },
    {
     "cell_type": "code",
     "collapsed": false,
     "input": [
      "savetxt('output.dat', DataOut, fmt=('%3i', '%4.3f'))\n",
      "#fmt allows us to format the numbers\n",
      "#savetxt doesnt allow us to comment the file, so we need to write into the file"
     ],
     "language": "python",
     "metadata": {},
     "outputs": [],
     "prompt_number": 10
    },
    {
     "cell_type": "code",
     "collapsed": false,
     "input": [
      "f = open('output.dat', 'w')\n",
      "f.write(\"#this is the data for the pressure and time of my voltage arrays\\n\\n\")\n",
      "savetxt(f, DataOut, fmt=('%3i', '%4.3f'))\n",
      "f.close()"
     ],
     "language": "python",
     "metadata": {},
     "outputs": [],
     "prompt_number": 11
    },
    {
     "cell_type": "markdown",
     "metadata": {},
     "source": [
      "Exercise 1 \n",
      "-"
     ]
    },
    {
     "cell_type": "code",
     "collapsed": false,
     "input": [
      "time = array([1,2,3,4,5,6,7,8,9,10])\n",
      "position = array([7.75,7.33,6.89,6.45,5.96,5.55,5.10,4.49,3.93,3.58])\n",
      "position_err = array ([0.02, 0.03, 0.03, 0.04, 0.05, 0.06, 0.08, 0.11, 0.14, 0.17])\n",
      "\n",
      "savetxt('linearData.dat', (time, position, position_err))\n",
      "savetxt('linearData.csv', (time, position, position_err), delimiter=',')"
     ],
     "language": "python",
     "metadata": {},
     "outputs": [],
     "prompt_number": 1
    },
    {
     "cell_type": "code",
     "collapsed": false,
     "input": [
      "data = column_stack((time, position, position_err))\n",
      "savetxt('linearData.dat', data)\n",
      "savetxt('linearData.csv', data, delimiter=',')"
     ],
     "language": "python",
     "metadata": {},
     "outputs": [],
     "prompt_number": 2
    },
    {
     "cell_type": "code",
     "collapsed": false,
     "input": [
      "fileDat = open('linearData.dat', 'w')\n",
      "fileDat.write(\"#this is the file from Week9 DataIO exercise 1 without commas\\n #The data is in columns that go (time (s), position (m), Uncertainty of position (m))\\n\\n\")\n",
      "savetxt(fileDat, data)\n",
      "fileDat.close()"
     ],
     "language": "python",
     "metadata": {},
     "outputs": [],
     "prompt_number": 3
    },
    {
     "cell_type": "code",
     "collapsed": false,
     "input": [
      "fileCsv = open('linearData.csv', 'w')\n",
      "fileCsv.write(\"#this is the file from Week9 DataIO exercise 1 with commas\\n #The data is in columns that go (time (s), position (m), Uncertainty of position (m))\\n\\n\")\n",
      "savetxt(fileCsv, data, delimiter=',')\n",
      "fileCsv.close()"
     ],
     "language": "python",
     "metadata": {},
     "outputs": [],
     "prompt_number": 4
    },
    {
     "cell_type": "code",
     "collapsed": false,
     "input": [
      "a = loadtxt('linearData.dat')\n",
      "print a"
     ],
     "language": "python",
     "metadata": {},
     "outputs": [
      {
       "output_type": "stream",
       "stream": "stdout",
       "text": [
        "[[  1.     7.75   0.02]\n",
        " [  2.     7.33   0.03]\n",
        " [  3.     6.89   0.03]\n",
        " [  4.     6.45   0.04]\n",
        " [  5.     5.96   0.05]\n",
        " [  6.     5.55   0.06]\n",
        " [  7.     5.1    0.08]\n",
        " [  8.     4.49   0.11]\n",
        " [  9.     3.93   0.14]\n",
        " [ 10.     3.58   0.17]]\n"
       ]
      }
     ],
     "prompt_number": 5
    },
    {
     "cell_type": "markdown",
     "metadata": {},
     "source": [
      "Exercise 2 \n",
      "-"
     ]
    },
    {
     "cell_type": "code",
     "collapsed": false,
     "input": [
      "def LinearLeastSquaresFit(x,y):\n",
      "    \"\"\"take i arrays representing (x,y) values for a set of linearly varying data and\n",
      "    perform a linear least squares regression. Return the resulting slope and intercept\n",
      "    parameters of te best fit line with their uncertainties.\"\"\"\n",
      "    \n",
      "    xav = zeros(len(x), float)\n",
      "    xav = sum(x)/len(x) #average x value\n",
      "    yav = zeros(len(y), float)\n",
      "    yav = sum(y)/len(y)#average y value\n",
      "    xav2 = zeros(len(x), float)\n",
      "    xav2 = sum(x**2)/len(x) #average x^2 value\n",
      "    xy = zeros(len(x), float)\n",
      "    xy = sum(x * y)/len(x) #average value of xy\n",
      "\n",
      "    m = (xy - xav*yav) / (xav2 - xav**2) # slope\n",
      "    b = (xav2*yav - xav*xy)/ (xav2 - xav**2) #intercept\n",
      "    \n",
      "    d = zeros(len(x), float)\n",
      "    for n in range(len(x)):\n",
      "        d[n] = y[n] - (m*x[n] + b) #vertical deviation\n",
      "        \n",
      "    x2 = zeros(len(d), float)\n",
      "    for n in range(len(x)): \n",
      "        x2[n] = sum(d[n]**2)#sum of squares of vertical deviations\n",
      "    \n",
      "    x2av = zeros(len(d), float)\n",
      "    x2av = sum(x2)/len(x) #average sum of squares of vertical deviation\n",
      "    \n",
      "    sigmaM = sqrt(1/float(len(x) -2) * x2av/(xav2 - xav**2))#uncertainty in slope\n",
      "    sigmaB = sqrt(1/float(len(x) -2) * x2av*xav2/(xav2 - xav**2))#uncertainty in intercept\n",
      "    \n",
      "    return \"slope=\", m, \"intercept=\", b, \"slope error=\", sigmaM, \"intercept error=\", sigmaB"
     ],
     "language": "python",
     "metadata": {},
     "outputs": [],
     "prompt_number": 6
    },
    {
     "cell_type": "code",
     "collapsed": false,
     "input": [
      "time, position = loadtxt('linearData.dat', unpack=True, usecols=[0,1])\n",
      "print time, position\n",
      "trial = LinearLeastSquaresFit(time,position)\n",
      "print trial"
     ],
     "language": "python",
     "metadata": {},
     "outputs": [
      {
       "output_type": "stream",
       "stream": "stdout",
       "text": [
        "[  1.   2.   3.   4.   5.   6.   7.   8.   9.  10.] [ 7.75  7.33  6.89  6.45  5.96  5.55  5.1   4.49  3.93  3.58]\n",
        "('slope=', -0.47145454545454524, 'intercept=', 8.2960000000000012, 'slope error=', 0.0079948330421529545, 'intercept error=', 0.049606634453651217)\n"
       ]
      }
     ],
     "prompt_number": 7
    },
    {
     "cell_type": "code",
     "collapsed": false,
     "input": [
      "plot(time, position, 'b.',marker='D', label=\"time vs position data\")\n",
      "plot(time, (-0.47145*time+8.296), label=\"y=mx+b fit\")\n",
      "plot(time, (-0.47145+.0079)*time+(8.296+0.0496), label=\"+ standard deviation\")\n",
      "plot(time, (-0.47145-.0079)*time+(8.296-0.0496), label=\"- standard deviation\")\n",
      "title(\"$Linear Data, position vs time$\")\n",
      "ylabel(\"$position (m)$\")\n",
      "xlabel(\"$time (s)$\")\n",
      "legend(loc=0)\n",
      "show()"
     ],
     "language": "python",
     "metadata": {},
     "outputs": [
      {
       "output_type": "display_data",
       "png": "[encoded data removed]"
      }
     ],
     "prompt_number": 8
    },
    {
     "cell_type": "markdown",
     "metadata": {},
     "source": [
      "Exercise 3\n",
      "-"
     ]
    },
    {
     "cell_type": "code",
     "collapsed": false,
     "input": [
      "def WeightedLinearLeastSquaresFit(x,y,w):\n",
      "    \"\"\"Take in arrays representing (x,y) values for a set of linearly varying data and an array of weights, w.\n",
      "    Perform a weighted linear least squares regression. Return the resulting slope and intercept\n",
      "    parameters of the best fit line with their uncertainties.\n",
      "\n",
      "    If the weights are all equal to one, the uncertainties on the parameters are calculated using the\n",
      "    non-weighted least squares equations.\"\"\"\n",
      "    \n",
      "    sumw = zeros(len(w), float)\n",
      "    sumw = sum(w)\n",
      "    sumwx = zeros(len(w), float)\n",
      "    sumwx = sum(w*x)\n",
      "    sumwy = zeros(len(w), float)\n",
      "    sumwy = sum(w*y)\n",
      "    sumwx2 = zeros(len(w), float)\n",
      "    sumwx2 = sum(w*(x**2))\n",
      "    sumwxy = zeros(len(w), float)\n",
      "    sumwxy = sum(w*x*y)\n",
      "    \n",
      "    m = (sumw*sumwxy - sumwx*sumwy)/(sumw*sumwx2 - sumwx**2)#slope with weighting\n",
      "    b = (sumwx2*sumwy - sumwx*sumwxy)/(sumw*sumwx2 - sumwx**2)#intercept with weighting \n",
      "    \n",
      "    sigmaM = sqrt(sumw/(sumw*sumwx2 - sumwx**2))\n",
      "    sigmaB = sqrt(sumwx2/(sumw*sumwx2 - sumwx**2))\n",
      "    \n",
      "    if sum(w)/len(w) == 1: #weights are all equal to one, uncertainties are unweighted\n",
      "        xav = zeros(len(x), float)\n",
      "        xav = sum(x)/len(x) #average x value\n",
      "        xav2 = zeros(len(x), float)\n",
      "        xav2 = sum(x**2)/len(x) #average x^2 value\n",
      "\n",
      "        d = zeros(len(x), float)\n",
      "        for n in range(len(x)):\n",
      "            d[n] = y[n] - (m*x[n] + b) #vertical deviation\n",
      "        \n",
      "        x2 = zeros(len(d), float)\n",
      "        for n in range(len(x)): \n",
      "            x2[n] = sum(d[n]**2)#sum of squares of vertical deviations\n",
      "    \n",
      "        x2av = zeros(len(d), float)\n",
      "        x2av = sum(x2)/len(x) #average sum of squares of vertical deviation\n",
      "    \n",
      "        sigmaM = sqrt(1/float(len(x) -2) * x2av/(xav2 - xav**2))#uncertainty in slope\n",
      "        sigmaB = sqrt(1/float(len(x) -2) * x2av*xav2/(xav2 - xav**2))#uncertainty in intercept\n",
      "    \n",
      "    \n",
      "    return \"m=\",m, \"m err=\", sigmaM, \"b=\",b, \"b err=\", sigmaB"
     ],
     "language": "python",
     "metadata": {},
     "outputs": [],
     "prompt_number": 72
    },
    {
     "cell_type": "code",
     "collapsed": false,
     "input": [
      "time, position, position_err = loadtxt('linearData.dat', unpack=True, usecols=[0,1,2])\n",
      "print time, position, position_err\n",
      "trial = WeightedLinearLeastSquaresFit(time,position,position_err)\n",
      "print trial"
     ],
     "language": "python",
     "metadata": {},
     "outputs": [
      {
       "output_type": "stream",
       "stream": "stdout",
       "text": [
        "[  1.   2.   3.   4.   5.   6.   7.   8.   9.  10.] [ 7.75  7.33  6.89  6.45  5.96  5.55  5.1   4.49  3.93  3.58] [ 0.02  0.03  0.03  0.04  0.05  0.06  0.08  0.11  0.14  0.17]\n",
        "('m=', -0.47935815933745307, 'm err=', 0.46138664815910974, 'b=', 8.3439350285780769, 'b err=', 3.5722533249757151)\n"
       ]
      }
     ],
     "prompt_number": 73
    },
    {
     "cell_type": "code",
     "collapsed": false,
     "input": [
      "errorbar(time, position, yerr=position_err, fmt='b.', label=\"Error bars on data\")\n",
      "plot(time, (-0.47145*time+8.296), label=\"y=mx+b fit\")\n",
      "plot(time, (-0.47145+.0079)*time+(8.296+0.0496), label=\"+ standard deviation (LSQ)\")\n",
      "plot(time, (-0.47145-.0079)*time+(8.296-0.0496), label=\"- standard deviation (LSQ)\")\n",
      "title(\"$Linear Data, position vs time$\")\n",
      "ylabel(\"$position (m)$\")\n",
      "xlabel(\"$time (s)$\")\n",
      "legend(loc=0)\n",
      "show()"
     ],
     "language": "python",
     "metadata": {},
     "outputs": [
      {
       "output_type": "display_data",
       "png": "[encoded data removed]"
      }
     ],
     "prompt_number": 74
    },
    {
     "cell_type": "code",
     "collapsed": false,
     "input": [],
     "language": "python",
     "metadata": {},
     "outputs": [],
     "prompt_number": 51
    },
    {
     "cell_type": "code",
     "collapsed": false,
     "input": [],
     "language": "python",
     "metadata": {},
     "outputs": []
    }
   ],
   "metadata": {}
  }
 ]
}