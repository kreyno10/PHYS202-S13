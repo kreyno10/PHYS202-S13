{
 "metadata": {
  "name": "Num Int Exercise 4"
 },
 "nbformat": 3,
 "nbformat_minor": 0,
 "worksheets": [
  {
   "cells": [
    {
     "cell_type": "markdown",
     "metadata": {},
     "source": [
      "1.\n",
      "=="
     ]
    },
    {
     "cell_type": "markdown",
     "metadata": {},
     "source": [
      "a)\n",
      "-"
     ]
    },
    {
     "cell_type": "code",
     "collapsed": false,
     "input": [
      "f = lambda t: exp(-t**2)\n",
      "N = 1000\n",
      "a = 0\n",
      "b = 3\n",
      "x = arange(a, b,0.1)\n",
      "randnum = (b - a) * random_sample(N) + a\n",
      "Int = (b - a)*average(f(randnum))\n",
      "print Int"
     ],
     "language": "python",
     "metadata": {},
     "outputs": [
      {
       "output_type": "stream",
       "stream": "stdout",
       "text": [
        "0.923989150137\n"
       ]
      }
     ],
     "prompt_number": 5
    },
    {
     "cell_type": "markdown",
     "metadata": {},
     "source": [
      "b)\n",
      "-"
     ]
    },
    {
     "cell_type": "code",
     "collapsed": false,
     "input": [
      "plot(x, f(x),label = 'E(x)')\n",
      "title('$E(x) vs x$', fontsize=20)\n",
      "legend(loc='upper right')\n",
      "show()"
     ],
     "language": "python",
     "metadata": {},
     "outputs": [
      {
       "output_type": "display_data",
       "png": "[encoded data removed]"
      }
     ],
     "prompt_number": 6
    },
    {
     "cell_type": "markdown",
     "metadata": {},
     "source": [
      "2.\n",
      "="
     ]
    },
    {
     "cell_type": "markdown",
     "metadata": {},
     "source": [
      "a)\n",
      "-"
     ]
    },
    {
     "cell_type": "code",
     "collapsed": false,
     "input": [
      "import scipy.integrate as integrate\n",
      "x = arange(L/2, (L+0.1)/3, 0.1)\n",
      "Ygs = abs(sqrt(2/L)*sin(pi*x/L))**2\n",
      "tgs = trapz(abs(Ygs)**2, x, dx=0.1)\n",
      "print \"trapz G.S.\",tgs\n",
      "Yfs = sqrt(2/L)*sin(2*pi*x/L)\n",
      "tfs = trapz(abs(Yfs)**2, x, dx =0.1)\n",
      "print \"trapz F.S.\",tfs\n",
      "fgs = lambda m:abs(sqrt(2/L)*sin(pi*m/L))**2\n",
      "qgs = integrate.quad(fgs, L/3., L/2.)\n",
      "print \"quad G.S.\",qgs\n",
      "ffs = lambda n: abs(sqrt(2/L)*sin(2*pi*n/L))**2\n",
      "qfs = integrate.quad(ffs, L/3., L/2.)\n",
      "print \"quad F.S.\", qfs\n",
      "\n"
     ],
     "language": "python",
     "metadata": {},
     "outputs": [
      {
       "output_type": "stream",
       "stream": "stdout",
       "text": [
        "trapz G.S. 0.137069476828\n",
        "trapz F.S. 0.340450849719\n",
        "quad G.S. (0.3044988905221147, 3.380616792304666e-15)\n",
        "quad F.S. (0.09775055473894276, 1.0852491654105595e-15)\n"
       ]
      }
     ],
     "prompt_number": 60
    },
    {
     "cell_type": "code",
     "collapsed": false,
     "input": [
      "L = 1\n",
      "x = arange(L/2,(L+0.1)/3, 0.1)\n",
      "Ygs =(sqrt(2/L)*sin(pi*x/L))**2\n",
      "plot(x, Ygs)\n",
      "\n",
      "#this graph has an area under the curve of about 0.18, which is close to the value determined by trapz\n",
      "#for the ground state"
     ],
     "language": "python",
     "metadata": {},
     "outputs": [
      {
       "output_type": "pyout",
       "prompt_number": 8,
       "text": [
        "[<matplotlib.lines.Line2D at 0x43be610>]"
       ]
      },
      {
       "output_type": "display_data",
       "png": "[encoded data removed]"
      }
     ],
     "prompt_number": 8
    },
    {
     "cell_type": "markdown",
     "metadata": {},
     "source": [
      "3.\n",
      "=="
     ]
    },
    {
     "cell_type": "markdown",
     "metadata": {},
     "source": [
      "a)\n",
      "-"
     ]
    },
    {
     "cell_type": "code",
     "collapsed": false,
     "input": [
      "def Hermite(n,x): \n",
      "    H = [1, 2*x]\n",
      "    i = 1\n",
      "    while i <= n:\n",
      "        nextH = 2*x*H[i] - 2*n*H[i]\n",
      "        H.append(nextH)\n",
      "        i+= 1\n",
      "    return H[n]\n"
     ],
     "language": "python",
     "metadata": {},
     "outputs": [],
     "prompt_number": 9
    },
    {
     "cell_type": "code",
     "collapsed": false,
     "input": [
      "h = Hermite(0,2)\n",
      "print h"
     ],
     "language": "python",
     "metadata": {},
     "outputs": [
      {
       "output_type": "stream",
       "stream": "stdout",
       "text": [
        "1\n"
       ]
      }
     ],
     "prompt_number": 89
    },
    {
     "cell_type": "markdown",
     "metadata": {},
     "source": [
      "b)\n",
      "-"
     ]
    },
    {
     "cell_type": "code",
     "collapsed": false,
     "input": [],
     "language": "python",
     "metadata": {},
     "outputs": []
    },
    {
     "cell_type": "markdown",
     "metadata": {},
     "source": [
      "4.\n",
      "=="
     ]
    },
    {
     "cell_type": "markdown",
     "metadata": {},
     "source": [
      "a) hit or miss MC\n",
      "-"
     ]
    },
    {
     "cell_type": "code",
     "collapsed": false,
     "input": [
      "f = lambda x: 4* sqrt(1 - x**2)\n",
      "x = arange(0, 1.001, .001)\n",
      "myplot = plot(x, f(x), lw=3)\n",
      "show()"
     ],
     "language": "python",
     "metadata": {},
     "outputs": [
      {
       "output_type": "display_data",
       "png": "[encoded data removed]"
      }
     ],
     "prompt_number": 11
    },
    {
     "cell_type": "code",
     "collapsed": false,
     "input": [
      "xmin = 0\n",
      "xmax = 1\n",
      "\n",
      "subx = x[logical_and((x > xmin), (x < xmax))]\n",
      "ymax = max(f(subx))*1.05\n",
      "ymin = 0.\n",
      "\n",
      "myplot= plot(x,f(x),lw=3)\n",
      "xlim(0., 1.2)\n",
      "\n",
      "plot([xmin, xmin], [ymin,ymax], color ='k', linestyle=\"--\")\n",
      "plot([xmax,xmax],[ymin,ymax], color='k', linestyle='--')\n",
      "plot([xmin,xmax], [ymax,ymax], color='k', linestyle='--')\n",
      "show()"
     ],
     "language": "python",
     "metadata": {},
     "outputs": [
      {
       "output_type": "display_data",
       "png": "[encoded data removed]"
      }
     ],
     "prompt_number": 12
    },
    {
     "cell_type": "code",
     "collapsed": false,
     "input": [
      "N = 100000\n",
      "samples_x = xmin + (xmax-xmin)*random_sample(N);\n",
      "samples_y = ymin + (ymax-ymin)*random_sample(N);\n",
      "\n",
      "myplot = plot(x, f(x), lw=3)\n",
      "xlim(0.,1.2)\n",
      "\n",
      "plot(samples_x[1:200],samples_y[1:200], '.')\n",
      "\n",
      "plot([xmin, xmin], [ymin,ymax], color ='k', linestyle=\"--\")\n",
      "plot([xmax,xmax],[ymin,ymax], color='k', linestyle='--')\n",
      "plot([xmin,xmax], [ymax,ymax], color='k', linestyle='--')\n",
      "show()"
     ],
     "language": "python",
     "metadata": {},
     "outputs": [
      {
       "output_type": "display_data",
       "png": "[encoded data removed]"
      }
     ],
     "prompt_number": 13
    },
    {
     "cell_type": "code",
     "collapsed": false,
     "input": [
      "newmask = (samples_y < f(samples_x))\n",
      "sum(newmask)"
     ],
     "language": "python",
     "metadata": {},
     "outputs": [
      {
       "output_type": "pyout",
       "prompt_number": 14,
       "text": [
        "74811"
       ]
      }
     ],
     "prompt_number": 14
    },
    {
     "cell_type": "code",
     "collapsed": false,
     "input": [
      "myplot = plot(x,f(x),lw=3)\n",
      "xlim(0.,1.2)\n",
      "\n",
      "plot(samples_x[1:200],samples_y[1:200],'.')\n",
      "\n",
      "plot(samples_x[newmask[:200]],samples_y[newmask[:200]], 'r.')\n",
      "\n",
      "plot([xmin, xmin], [ymin,ymax], color ='k', linestyle=\"--\")\n",
      "plot([xmax,xmax],[ymin,ymax], color='k', linestyle='--')\n",
      "plot([xmin,xmax], [ymax,ymax], color='k', linestyle='--')\n",
      "show()"
     ],
     "language": "python",
     "metadata": {},
     "outputs": [
      {
       "output_type": "display_data",
       "png": "[encoded data removed]"
      }
     ],
     "prompt_number": 15
    },
    {
     "cell_type": "code",
     "collapsed": false,
     "input": [
      "I = (xmax-xmin)*(ymax-ymin)*sum(newmask)/newmask.size\n",
      "print I"
     ],
     "language": "python",
     "metadata": {},
     "outputs": [
      {
       "output_type": "stream",
       "stream": "stdout",
       "text": [
        "3.14206042897\n"
       ]
      }
     ],
     "prompt_number": 16
    },
    {
     "cell_type": "markdown",
     "metadata": {},
     "source": [
      "b)\n",
      "-"
     ]
    },
    {
     "cell_type": "code",
     "collapsed": false,
     "input": [
      "Iexact = pi\n",
      "Ierr = 100*(Iexact - I)/Iexact\n",
      "print 'error =',Ierr"
     ],
     "language": "python",
     "metadata": {},
     "outputs": [
      {
       "output_type": "stream",
       "stream": "stdout",
       "text": [
        "error = -0.014889752759\n"
       ]
      }
     ],
     "prompt_number": 17
    },
    {
     "cell_type": "markdown",
     "metadata": {},
     "source": [
      "c)\n",
      "-"
     ]
    },
    {
     "cell_type": "code",
     "collapsed": false,
     "input": [
      "Nray = []\n",
      "Ierrray = []\n",
      "for i in range(1, 100000, 1000):\n",
      "    N = i\n",
      "    Nray.append(i)\n",
      "    samples_x = xmin + (xmax-xmin)*random_sample(N);\n",
      "    samples_y = ymin + (ymax-ymin)*random_sample(N);\n",
      "    newmask = (samples_y < f(samples_x))\n",
      "    sum(newmask)\n",
      "    I = (xmax-xmin)*(ymax-ymin)*sum(newmask)/newmask.size\n",
      "    Iexact = pi\n",
      "    Ierr = abs(100*(Iexact - I)/Iexact)\n",
      "    Ierrray.append(Ierr)\n",
      "loglog(Nray, Ierrray)\n",
      "title('Error vs Slices')\n",
      "ylabel('Error value')\n",
      "xlabel('# of slices')\n",
      "show()\n",
      "#this shows that at approx N = 10^3 the error goes to under 1."
     ],
     "language": "python",
     "metadata": {},
     "outputs": [
      {
       "output_type": "display_data",
       "png": "[encoded data removed]"
      }
     ],
     "prompt_number": 53
    },
    {
     "cell_type": "markdown",
     "metadata": {},
     "source": [
      "d) sample mean MC\n",
      "-"
     ]
    },
    {
     "cell_type": "code",
     "collapsed": false,
     "input": [
      "f = lambda x: 4* sqrt(1 - x**2)\n",
      "N = 10 **8 # result has 2 sig fig decimal places \n",
      "a = 0.\n",
      "b = 1.\n",
      "x = arange(0.,1.001,.001)\n",
      "randx = (b -a) *random_sample(N)+a\n",
      "In = (b - a)*average(f(randx))\n",
      "print In"
     ],
     "language": "python",
     "metadata": {},
     "outputs": [
      {
       "output_type": "stream",
       "stream": "stdout",
       "text": [
        "3.1414731315\n"
       ]
      }
     ],
     "prompt_number": 19
    },
    {
     "cell_type": "markdown",
     "metadata": {},
     "source": [
      "5.\n",
      "="
     ]
    },
    {
     "cell_type": "markdown",
     "metadata": {},
     "source": [
      "a)\n",
      "-"
     ]
    },
    {
     "cell_type": "code",
     "collapsed": false,
     "input": [
      "l = 0.2 #meters\n",
      "y = arange(-0.1, 0.2, .1)\n",
      "w = 0.2#meters\n",
      "x = arange(-0.1, 0.11, .0010)\n",
      "h = 1. #meters\n",
      "z = arange(-0.5,0.6,.1)\n",
      "p = lambda z,y,x: 100 * ((y + 0.1) + z**2)\n",
      "M = integrate.tplquad(p, -0.1, 0.1, lambda x:-0.1, lambda x: 0.1, lambda x,y: -0.5, lambda x,y: 0.5)\n",
      "print \"M =\",M[0]\n"
     ],
     "language": "python",
     "metadata": {},
     "outputs": [
      {
       "output_type": "stream",
       "stream": "stdout",
       "text": [
        "M = 0.733333333333\n"
       ]
      }
     ],
     "prompt_number": 87
    },
    {
     "cell_type": "code",
     "collapsed": false,
     "input": [
      "pmx = lambda z,y,x: 100 * ((y + 0.1) + z**2)*(y+z)\n",
      "Mx = integrate.tplquad(pmx, -0.1, 0.1, lambda x:-0.1, lambda x: 0.1, lambda x,y: -0.5, lambda x,y: 0.5)\n",
      "print \"rx=\",Mx[0]/M[0]\n",
      "pmy = lambda z,y,x: 100 * ((y + 0.1) + z**2)*(x+z)\n",
      "My = integrate.tplquad(pmy, -0.1, 0.1, lambda x:-0.1, lambda x: 0.1, lambda x,y: -0.5, lambda x,y: 0.5)\n",
      "print \"ry=\",My[0]/M[0]\n",
      "pmz = lambda z,y,x: 100 * ((y + 0.1) + z**2)*(y+x)\n",
      "Mz = integrate.tplquad(pmz, -0.1, 0.1, lambda x:-0.1, lambda x: 0.1, lambda x,y: -0.5, lambda x,y: 0.5)\n",
      "print \"rz=\",Mz[0]/M[0]\n",
      "print \"r_cm: (\",Mx[0]/M[0],My[0]/M[0],Mz[0]/M[0], \")\""
     ],
     "language": "python",
     "metadata": {},
     "outputs": [
      {
       "output_type": "stream",
       "stream": "stdout",
       "text": [
        "rx= 0.0181818181818\n",
        "ry= 0.0\n",
        "rz= 0.0181818181818\n",
        "r_cm: ( 0.0181818181818 0.0 0.0181818181818 )\n"
       ]
      }
     ],
     "prompt_number": 83
    },
    {
     "cell_type": "code",
     "collapsed": false,
     "input": [
      "px = lambda z,y,x: ((y+ 0.1) + z**2) * (y**2 + z**2)\n",
      "Ix = integrate.tplquad(px, -0.1, 0.1, lambda x:-0.1, lambda x: 0.1, lambda x,y: -0.5, lambda x,y: 0.5)\n",
      "print \"Ix =\",Ix[0]\n",
      "py = lambda z,y,x: ((y+ 0.1) + z**2) * (x**2 + z**2)\n",
      "Iy = integrate.tplquad(py, -0.1, 0.1, lambda x:-0.1, lambda x: 0.1, lambda x,y: -0.5, lambda x,y: 0.5)\n",
      "print \"Iy =\",Iy[0]\n",
      "pz = lambda z,y,x: ((y+ 0.1) + z**2) * (x**2 + y**2)\n",
      "Iz =integrate.tplquad(pz, -0.1, 0.1, lambda x:-0.1, lambda x: 0.1, lambda x,y: -0.5, lambda x,y: 0.5)\n",
      "print \"Iz =\",Iz[0]"
     ],
     "language": "python",
     "metadata": {},
     "outputs": [
      {
       "output_type": "stream",
       "stream": "stdout",
       "text": [
        "Ix = 0.000857777777778\n",
        "Iy = 0.000857777777778\n",
        "Iz = 4.88888888889e-05\n"
       ]
      }
     ],
     "prompt_number": 86
    },
    {
     "cell_type": "markdown",
     "metadata": {},
     "source": [
      "b)\n",
      "-"
     ]
    },
    {
     "cell_type": "code",
     "collapsed": false,
     "input": [
      "#i have no algorithm to test a constant density on....hence the billion lines of code above. "
     ],
     "language": "python",
     "metadata": {},
     "outputs": [],
     "prompt_number": 88
    },
    {
     "cell_type": "code",
     "collapsed": false,
     "input": [],
     "language": "python",
     "metadata": {},
     "outputs": []
    }
   ],
   "metadata": {}
  }
 ]
}