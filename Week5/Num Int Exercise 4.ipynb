{
 "metadata": {
  "name": "Num Int Exercise 4"
 },
 "nbformat": 3,
 "nbformat_minor": 0,
 "worksheets": [
  {
   "cells": [
    {
     "cell_type": "markdown",
     "metadata": {},
     "source": [
      "1.\n",
      "=="
     ]
    },
    {
     "cell_type": "markdown",
     "metadata": {},
     "source": [
      "a)\n",
      "-"
     ]
    },
    {
     "cell_type": "code",
     "collapsed": false,
     "input": [
      "f = lambda t: exp(-t**2)\n",
      "N = 1000\n",
      "a = 0\n",
      "b = 3\n",
      "x = arange(a, b,0.1)\n",
      "randnum = (b - a) * random_sample(N) + a\n",
      "Int = (b - a)*average(f(randnum))\n",
      "print Int"
     ],
     "language": "python",
     "metadata": {},
     "outputs": [
      {
       "output_type": "stream",
       "stream": "stdout",
       "text": [
        "0.867124746671\n"
       ]
      }
     ],
     "prompt_number": 13
    },
    {
     "cell_type": "markdown",
     "metadata": {},
     "source": [
      "b)\n",
      "-"
     ]
    },
    {
     "cell_type": "code",
     "collapsed": false,
     "input": [
      "plot(x, f(x),label = 'E(x)')\n",
      "title('$E(x) vs x$', fontsize=20)\n",
      "legend(loc='upper right')\n",
      "show()"
     ],
     "language": "python",
     "metadata": {},
     "outputs": [
      {
       "output_type": "display_data",
       "png": "[encoded data removed]"
      }
     ],
     "prompt_number": 9
    },
    {
     "cell_type": "markdown",
     "metadata": {},
     "source": [
      "2.\n",
      "="
     ]
    },
    {
     "cell_type": "markdown",
     "metadata": {},
     "source": [
      "a)\n",
      "-"
     ]
    },
    {
     "cell_type": "code",
     "collapsed": false,
     "input": [
      "import scipy.integrate as integrate\n",
      "Ygs = sqrt(2/L)*sin(pi*x/L)\n",
      "Yfs = sqrt(2/L)*sin(2*pi*x/L)\n"
     ],
     "language": "python",
     "metadata": {},
     "outputs": [],
     "prompt_number": 32
    },
    {
     "cell_type": "code",
     "collapsed": false,
     "input": [
      "L = 1\n",
      "x = arange(3, 2, 0.1)\n",
      "Ygs =(sqrt(2/L)*sin(pi*x/L))**2\n",
      "plot(x, Ygs)\n",
      "\n",
      "#t = trapz(Ygs, x,dx = .01)\n",
      "#print t"
     ],
     "language": "python",
     "metadata": {},
     "outputs": [
      {
       "output_type": "pyout",
       "prompt_number": 33,
       "text": [
        "[<matplotlib.lines.Line2D at 0x49159d0>]"
       ]
      },
      {
       "output_type": "display_data",
       "png": "[encoded data removed]"
      }
     ],
     "prompt_number": 33
    },
    {
     "cell_type": "markdown",
     "metadata": {},
     "source": [
      "3.\n",
      "=="
     ]
    },
    {
     "cell_type": "markdown",
     "metadata": {},
     "source": [
      "a)\n",
      "-"
     ]
    },
    {
     "cell_type": "code",
     "collapsed": false,
     "input": [
      "def H(n,x):\n",
      "    return 2**n * x**n - 2 * (n-1) * x**(n-2)\n",
      "\n",
      "\n",
      "    \n",
      "\n",
      "    "
     ],
     "language": "python",
     "metadata": {},
     "outputs": [],
     "prompt_number": 67
    },
    {
     "cell_type": "code",
     "collapsed": false,
     "input": [
      "x = H(3, 1)\n",
      "print x"
     ],
     "language": "python",
     "metadata": {},
     "outputs": [
      {
       "output_type": "stream",
       "stream": "stdout",
       "text": [
        "4\n"
       ]
      }
     ],
     "prompt_number": 69
    },
    {
     "cell_type": "code",
     "collapsed": false,
     "input": [],
     "language": "python",
     "metadata": {},
     "outputs": []
    }
   ],
   "metadata": {}
  }
 ]
}