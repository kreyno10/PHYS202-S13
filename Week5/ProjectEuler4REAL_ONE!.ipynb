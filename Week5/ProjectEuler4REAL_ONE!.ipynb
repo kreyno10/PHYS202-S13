{
 "metadata": {
  "name": "ProjectEuler4REAL_ONE!"
 },
 "nbformat": 3,
 "nbformat_minor": 0,
 "worksheets": [
  {
   "cells": [
    {
     "cell_type": "markdown",
     "metadata": {},
     "source": [
      "A palindromic number reads the same both ways. The largest palindrome made from the product of two 2-digit numbers is 9009 = 91 99.\n",
      "\n",
      "Find the largest palindrome made from the product of two 3-digit numbers."
     ]
    },
    {
     "cell_type": "code",
     "collapsed": false,
     "input": [
      "first = xrange(999,99,-1) #i looked up the xrange on someones's blog on how to go through a range faster, \n",
      "second = xrange(999, 99,-1)#cause it kept taking too long and i would have to interrupt the kernel.\n",
      "x = []\n",
      "for i in first: \n",
      "    for j in second:\n",
      "        if str(i*j) == str(i*j)[::-1]:\n",
      "             x.append(i*j)\n",
      "print max(x)\n"
     ],
     "language": "python",
     "metadata": {},
     "outputs": [
      {
       "output_type": "stream",
       "stream": "stdout",
       "text": [
        "906609\n"
       ]
      }
     ],
     "prompt_number": 29
    },
    {
     "cell_type": "markdown",
     "metadata": {},
     "source": [
      "test case to get the same answer for largest palindrome from product of two digit numbers."
     ]
    },
    {
     "cell_type": "code",
     "collapsed": false,
     "input": [
      "first = xrange(99,9,-1)\n",
      "second = xrange(99, 9,-1)\n",
      "x = []\n",
      "for i in first: \n",
      "    for j in second:\n",
      "        if str(i*j) == str(i*j)[::-1]:\n",
      "             x.append(i*j)\n",
      "print max(x)"
     ],
     "language": "python",
     "metadata": {},
     "outputs": [
      {
       "output_type": "stream",
       "stream": "stdout",
       "text": [
        "9009\n"
       ]
      }
     ],
     "prompt_number": 30
    },
    {
     "cell_type": "code",
     "collapsed": false,
     "input": [],
     "language": "python",
     "metadata": {},
     "outputs": [],
     "prompt_number": 8
    },
    {
     "cell_type": "code",
     "collapsed": false,
     "input": [],
     "language": "python",
     "metadata": {},
     "outputs": []
    }
   ],
   "metadata": {}
  }
 ]
}