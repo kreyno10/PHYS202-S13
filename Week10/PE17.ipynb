{
 "metadata": {
  "name": "PE17"
 },
 "nbformat": 3,
 "nbformat_minor": 0,
 "worksheets": [
  {
   "cells": [
    {
     "cell_type": "markdown",
     "metadata": {},
     "source": [
      "If the numbers 1 to 5 are written out in words: one, two, three, four, five, then there are 3 + 3 + 5 + 4 + 4 = 19 letters used in total.\n",
      "\n",
      "If all the numbers from 1 to 1000 (one thousand) inclusive were written out in words, how many letters would be used?\n",
      "\n",
      "\n",
      "NOTE: Do not count spaces or hyphens. For example, 342 (three hundred and forty-two) contains 23 letters and 115 (one hundred and fifteen) contains 20 letters. The use of \"and\" when writing out numbers is in compliance with British usage."
     ]
    },
    {
     "cell_type": "code",
     "collapsed": false,
     "input": [
      "number = {\n",
      "    0: '',1:'one',2:'two',3:'three',4:'four',5:'five',6:'six',7:'seven',\n",
      "    8:'eight',9:'nine',10:'ten',11:'eleven',12:'twelve',13:'thirteen',\n",
      "    14:'fourteen',15:'fifteen',16:'sixteen',17:'seventeen',\n",
      "    18:'eighteen',19:'nineteen',20:'twenty',30:'thirty',40:'forty',\n",
      "    50:'fifty',60:'sixty',70:'seventy',80:'eighty',90:'ninety',\n",
      "    100:'hundred',1000:'onethousand'}\n",
      "\n",
      "count=0\n",
      "for n in range(1,1001):\n",
      "    if n < 11:\n",
      "        count+=len(number[n])\n",
      "    if n>10 and n<20:\n",
      "        x =n%10\n",
      "        y = 10+x\n",
      "        count+=len(number[y])\n",
      "    if n>20 and n <100:\n",
      "        x = n/10\n",
      "        y= n%10\n",
      "        if y==0:\n",
      "            count+=len(number[x*10])\n",
      "        else:\n",
      "            count+= len(number[x])+len(number[y])\n",
      "    if n == 100:\n",
      "        count+=len(number[100])+len(number[1])\n",
      "    if n>100 and n/100 == 2 or n/100 == 3 or n/100 == 4 or n/100 == 5 or n/100 == 6 or n/100 == 7 or n/100 == 8 or n/100 == 9:\n",
      "        x=n/100\n",
      "        count+=len(number[100])+len(number[x])\n",
      "    if n>100 and n<1000:\n",
      "        x=n/100 #first digit hundreds place\n",
      "        y=n%10 #last digit ones place\n",
      "        z=n%100/10*10 #middle digit tens place\n",
      "        if z == 1:\n",
      "            w = y+z\n",
      "            count+=len(number[x])+len(number[100])+3+len(number[w])\n",
      "        else:\n",
      "            count+=len(number[x])+len(number[100])+3+len(number[z])+len(number[y])\n",
      "    if n == 1000:\n",
      "        count+=len(number[1000])\n",
      "        \n",
      "print count\n"
     ],
     "language": "python",
     "metadata": {},
     "outputs": [
      {
       "output_type": "stream",
       "stream": "stdout",
       "text": [
        "29889\n"
       ]
      }
     ],
     "prompt_number": 69
    },
    {
     "cell_type": "code",
     "collapsed": false,
     "input": [
      "90%10\n"
     ],
     "language": "python",
     "metadata": {},
     "outputs": [
      {
       "output_type": "pyout",
       "prompt_number": 66,
       "text": [
        "0"
       ]
      }
     ],
     "prompt_number": 66
    },
    {
     "cell_type": "code",
     "collapsed": false,
     "input": [
      "307%100/10"
     ],
     "language": "python",
     "metadata": {},
     "outputs": [
      {
       "output_type": "pyout",
       "prompt_number": 13,
       "text": [
        "0"
       ]
      }
     ],
     "prompt_number": 13
    },
    {
     "cell_type": "code",
     "collapsed": false,
     "input": [
      "473%100/10*10"
     ],
     "language": "python",
     "metadata": {},
     "outputs": [
      {
       "output_type": "pyout",
       "prompt_number": 27,
       "text": [
        "70"
       ]
      }
     ],
     "prompt_number": 27
    },
    {
     "cell_type": "code",
     "collapsed": false,
     "input": [
      "100/100"
     ],
     "language": "python",
     "metadata": {},
     "outputs": [
      {
       "output_type": "pyout",
       "prompt_number": 34,
       "text": [
        "1"
       ]
      }
     ],
     "prompt_number": 34
    },
    {
     "cell_type": "code",
     "collapsed": false,
     "input": [
      "316%100/10*10"
     ],
     "language": "python",
     "metadata": {},
     "outputs": [
      {
       "output_type": "pyout",
       "prompt_number": 30,
       "text": [
        "10"
       ]
      }
     ],
     "prompt_number": 30
    },
    {
     "cell_type": "code",
     "collapsed": false,
     "input": [
      "76%10"
     ],
     "language": "python",
     "metadata": {},
     "outputs": [
      {
       "output_type": "pyout",
       "prompt_number": 40,
       "text": [
        "6"
       ]
      }
     ],
     "prompt_number": 40
    },
    {
     "cell_type": "code",
     "collapsed": false,
     "input": [
      "if n>10 and n <100:\n",
      "    x = n/10\n",
      "    y= n%10\n",
      "    count+= len(number[x])+len(number[y])"
     ],
     "language": "python",
     "metadata": {},
     "outputs": [
      {
       "output_type": "pyout",
       "prompt_number": 32,
       "text": [
        "16"
       ]
      }
     ],
     "prompt_number": 32
    },
    {
     "cell_type": "code",
     "collapsed": false,
     "input": [
      "if n>10 and n <100:\n",
      "    x = n/10\n",
      "    y= n%10\n",
      "    count+= len(number[x])+len(number[y])\n"
     ],
     "language": "python",
     "metadata": {},
     "outputs": []
    }
   ],
   "metadata": {}
  }
 ]
}